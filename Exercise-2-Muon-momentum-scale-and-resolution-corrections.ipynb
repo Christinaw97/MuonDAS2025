{
 "cells": [
  {
   "cell_type": "markdown",
   "metadata": {},
   "source": [
    "The measurement of the muon transverse momentum of muons is sensitive to several detector conditions:\n",
    "   * the *alignment* of the tracker and of the muon chambers\n",
    "   * the *composition and distribution of the material* inside the tracking volume\n",
    "   * the knowledge of the *magnetic field* inside and outside the solenoid volume.\n",
    "<br>\n",
    "\n",
    "All these conditions affect differently the momentum measurement and can produce biases. In particular, the detector misalignment produces a relative bias that generally increases linearly with the momentum. For this reason it is extremely important to have an accurate knowledge of the tracker and muon spectrometer alignment, and a detailed mapping of the detector material and of the magnetic field. Residual biases can be corrected *a posteriori*, using calibration techniques that generally exploit data from very well-known processes, such as J/&psi;&rarr;&mu;&mu; or Z&rarr;&mu;&mu; decays."
   ]
  },
  {
   "cell_type": "code",
   "execution_count": null,
   "metadata": {
    "scrolled": true
   },
   "outputs": [],
   "source": [
    "import uproot\n",
    "import matplotlib.pyplot as plt\n",
    "import numpy as np\n",
    "import awkward as ak\n",
    "from coffea.nanoevents import NanoEventsFactory, NanoAODSchema\n",
    "import ROOT"
   ]
  },
  {
   "cell_type": "code",
   "execution_count": null,
   "metadata": {
    "scrolled": true
   },
   "outputs": [],
   "source": [
    "events = NanoEventsFactory.from_root(\n",
    "    \"/eos/uscms/store/user/cmsdas/2025/short_exercises/muons/DYJets.root\", \n",
    "    schemaclass=NanoAODSchema,\n",
    "    treepath = \"Events\",\n",
    ").events()"
   ]
  },
  {
   "cell_type": "code",
   "execution_count": null,
   "metadata": {
    "scrolled": true
   },
   "outputs": [],
   "source": [
    "muon=events.Muon"
   ]
  },
  {
   "cell_type": "markdown",
   "metadata": {},
   "source": [
    "First check the available fields for muon arrays"
   ]
  },
  {
   "cell_type": "code",
   "execution_count": null,
   "metadata": {},
   "outputs": [],
   "source": [
    "muon.fields"
   ]
  },
  {
   "cell_type": "markdown",
   "metadata": {},
   "source": [
    "# Step 1: Generated and reconstructed dimuon Z mass\n",
    "First, lets reconstruct dimuon z mass.\n",
    "reapplying previous code. Using the following criteria to select two well-defined and isolated muons. For instance, you can require that both muons pass:<br>\n",
    "\n",
    "* Muon_genPartIdx!=-1(each muon must have an associated generated particle)\n",
    "* Muon_isGlobal==1\n",
    "* Muon_pt>20.\n",
    "* abs(Muon_eta)<2.4\n",
    "* Muon_pfRelIso03_chg<0.15"
   ]
  },
  {
   "cell_type": "code",
   "execution_count": null,
   "metadata": {
    "scrolled": true
   },
   "outputs": [],
   "source": [
    "muon_mask=(muon.genPartIdx!=-1)& (muon.isGlobal==1)& (muon.pt>20)& (abs(muon.eta)<2.4)& (muon.pfRelIso03_chg<0.15)"
   ]
  },
  {
   "cell_type": "code",
   "execution_count": null,
   "metadata": {
    "scrolled": true
   },
   "outputs": [],
   "source": [
    "muons_good=muon[muon_mask]"
   ]
  },
  {
   "cell_type": "markdown",
   "metadata": {},
   "source": [
    "We only keep events with 2 good muons. There are 6 events with over 2 muons, we will ignore them for simplicity."
   ]
  },
  {
   "cell_type": "code",
   "execution_count": null,
   "metadata": {
    "scrolled": true
   },
   "outputs": [],
   "source": [
    "two_good_muons=muons_good[ak.num(muons_good)==2]"
   ]
  },
  {
   "cell_type": "code",
   "execution_count": null,
   "metadata": {
    "scrolled": true
   },
   "outputs": [],
   "source": [
    "two_good_muons.charge"
   ]
  },
  {
   "cell_type": "markdown",
   "metadata": {},
   "source": [
    "Lets make sure muons in eaach events have opposite charge"
   ]
  },
  {
   "cell_type": "code",
   "execution_count": null,
   "metadata": {
    "scrolled": true
   },
   "outputs": [],
   "source": [
    "opposite_sign_muon_mask=(two_good_muons.charge[:,0]!=two_good_muons.charge[:,1])"
   ]
  },
  {
   "cell_type": "code",
   "execution_count": null,
   "metadata": {
    "scrolled": true
   },
   "outputs": [],
   "source": [
    "two_opposite_good_muons=two_good_muons[opposite_sign_muon_mask]"
   ]
  },
  {
   "cell_type": "code",
   "execution_count": null,
   "metadata": {
    "scrolled": true
   },
   "outputs": [],
   "source": [
    "dimuon_p4 = (two_opposite_good_muons[:, 0] + two_opposite_good_muons[:, 1])"
   ]
  },
  {
   "cell_type": "code",
   "execution_count": null,
   "metadata": {
    "scrolled": true
   },
   "outputs": [],
   "source": [
    "print(dimuon_p4.mass)"
   ]
  },
  {
   "cell_type": "markdown",
   "metadata": {},
   "source": [
    "### Fill in the code below to create a mask to require the invariant mass to be between 70 and 110 GeV and then plot the masked dimuon mass distribution (`dimuon_p4.mass[dimuon_mass_mask]`)"
   ]
  },
  {
   "cell_type": "code",
   "execution_count": null,
   "metadata": {
    "scrolled": true
   },
   "outputs": [],
   "source": [
    "dimuon_mass_mask = "
   ]
  },
  {
   "cell_type": "markdown",
   "metadata": {},
   "source": [
    "Now lets get their corresponding genpart and gen dimuon mass."
   ]
  },
  {
   "cell_type": "code",
   "execution_count": null,
   "metadata": {
    "scrolled": true
   },
   "outputs": [],
   "source": [
    "gen_muon=two_opposite_good_muons.matched_gen"
   ]
  },
  {
   "cell_type": "markdown",
   "metadata": {},
   "source": [
    "### Fill in the code below to calculate and plot the generator-level di-muon array by summing the two generator-level muons in each event, using the same format as the reconstructed di-muon system `dimuon-p4` above."
   ]
  },
  {
   "cell_type": "code",
   "execution_count": null,
   "metadata": {
    "scrolled": true
   },
   "outputs": [],
   "source": [
    "gen_dimuon_p4 = \n",
    "\n",
    "print(gen_dimuon_p4.mass)"
   ]
  },
  {
   "cell_type": "markdown",
   "metadata": {},
   "source": [
    "Then, we fit both generated and reconstructed Z mass.<br>\n",
    "Keep in mind that the Z line shape is not Gaussian, so the Gaussian fit might not be perfect. We then fit them with more suitable functions for each case, e.g. a Breit-Wigner function for the generated mass and a Voigt function (i.e. a convolution of a Breit-Wigner with a Gaussian) for the reconstructed mass. You can easily do this from the ROOT e.g.:"
   ]
  },
  {
   "cell_type": "markdown",
   "metadata": {},
   "source": [
    "Fit the generator-level mass first:"
   ]
  },
  {
   "cell_type": "code",
   "execution_count": null,
   "metadata": {},
   "outputs": [],
   "source": [
    "c1 = ROOT.TCanvas(\"gendimuonmass\",\"\",900,600)\n",
    "h_GenDiMuonM = ROOT.TH1F(\"h_GenDiMuonM\",\";m_{#mu^{+}#mu^{-}};\",80,70,110)\n",
    "for m in gen_dimuon_p4.mass:\n",
    "    h_GenDiMuonM.Fill(m)\n",
    "h_GenDiMuonM.Draw()\n",
    "c1.Draw()\n",
    "f2 = ROOT.TF1(\"f2\", \"[0]*TMath::BreitWigner(x, [1], [2])\", 86., 96.)\n",
    "f2.SetParameter(1, 91.1876)\n",
    "f2.SetParameter(2, 2.4952)\n",
    "h_GenDiMuonM.Fit(\"f2\", \"\", \"\", 86., 96.)\n",
    "ROOT.gStyle.SetOptFit(1111)\n",
    "c1.Draw()"
   ]
  },
  {
   "cell_type": "markdown",
   "metadata": {},
   "source": [
    "Then fit the reconstructed di-muon mass, fill in the code below to first create a reconstructed di-muon mass histogram"
   ]
  },
  {
   "cell_type": "code",
   "execution_count": null,
   "metadata": {},
   "outputs": [],
   "source": [
    "c2 = ROOT.TCanvas(\"recdimuonmass\",\"\",900,600)\n",
    "h_RecDiMuonM = ROOT.TH1F(\"h_RecDiMuonM\",\";m_{#mu^{+}#mu^{-}};\",80,70,110)\n",
    "\n",
    "###########################\n",
    "## Fill the histogram content here\n",
    "###########################\n",
    "\n",
    "h_RecDiMuonM.Draw()\n",
    "c2.Draw()\n"
   ]
  },
  {
   "cell_type": "markdown",
   "metadata": {},
   "source": [
    "Now fit the histogram!"
   ]
  },
  {
   "cell_type": "code",
   "execution_count": null,
   "metadata": {},
   "outputs": [],
   "source": [
    "f1 = ROOT.TF1(\"f1\", \"[0]*TMath::Voigt(x-[1], [2], [3])\", 86., 96.)\n",
    "f1.SetParameter(1, 91.1876)\n",
    "f1.SetParameter(3, 2.4952)\n",
    "h_RecDiMuonM.Fit(\"f1\", \"\", \"\", 86., 96.)\n",
    "ROOT.gStyle.SetOptFit(1111)\n",
    "c2.Draw()\n"
   ]
  },
  {
   "cell_type": "markdown",
   "metadata": {},
   "source": [
    "**Questions 1:**\n",
    "   * Compare the mean values obtained from the fits to the generated and reconstructed distributions. Are they compatible or do they differ significantly? How do they compare to the nominal Z mass value, m<sub>Z</sub> = 91.1876 GeV? Which distribution has the larger shift with respect to m<sub>Z</sub>?\n",
    "   * Compare the widths of the two distributions (GEN and RECO). Which one is larger? Can you explain why? \n",
    "   * Considering that the natural width of the Z boson is &Gamma;<sub>Z</sub> = 2.4952 GeV, can you roughly estimate the typical dimuon mass resolution of Z&rarr;&mu;&mu; events measured with the CMS detector?(*Note:* with a _Voigtian_ fit, you would get an estimate of the  mass resolution directly from the fit) \n",
    "   * Why do you need different functions to better fit the generated and reconstructed mass distributions? What differs between the two? If you had to fit the peak of a reconstructed J/&psi; instead, what function would you use, and why?\n",
    "\n"
   ]
  },
  {
   "cell_type": "markdown",
   "metadata": {},
   "source": [
    "# Step 2: Investigate the muon transverse momentum resolution"
   ]
  },
  {
   "cell_type": "markdown",
   "metadata": {},
   "source": [
    "Now we will study the muon transverse momentum resolution. We will consider distributions of the transverse momentum residuals, defined as  R(1/pT) = (1/pT<sup>REC</sup> &ndash; 1/pT<sup>GEN</sup>)/(1/pT<sup>GEN</sup>). In the ideal case, the distribution of the residuals is expected to be Gaussian and its standard deviation is the pT resolution. Likewise, we can define the dimuon invariant mass residuals as R(M) = (M<sup>REC</sup> &ndash; M<sup>GEN</sup>)/M<sup>GEN</sup>, and the standard deviation of the R(M) distribution defines the mass resolution. \n",
    "\n",
    "We will first study R(1/PT):\n",
    "   * 1D histogram of the muon transverse momentum residuals R(1/PT): A histogram (h_MupTRes) of the muon transverse momentum residual using the PAT muons and GEN muons. \n",
    "   * Fit this distribution to a Gaussian function. \n",
    "   * The fit parameter sigma gives the muon transverse momentum resolution in the chosen p<sub>T</sub> range."
   ]
  },
  {
   "cell_type": "code",
   "execution_count": null,
   "metadata": {},
   "outputs": [],
   "source": [
    "pt_res=ak.flatten(two_opposite_good_muons.matched_gen.pt)/ak.flatten(two_opposite_good_muons.pt)-1\n",
    "\n",
    "c6 = ROOT.TCanvas(\"ptresidual\",\"\",900,600)\n",
    "h_MupTRes = ROOT.TH1F(\"h_MupTRes\",\"Muon p_{T} resolution;#Delta p_{T}/p_{T};\",80,-0.2,0.2)\n",
    "for res in pt_res:\n",
    "    h_MupTRes.Fill(res)\n",
    "h_MupTRes.Draw()\n",
    "c6.Draw()\n",
    "h_MupTRes.Fit(\"gaus\")\n",
    "\n"
   ]
  },
  {
   "cell_type": "markdown",
   "metadata": {},
   "source": [
    "Let's now study the dimuon invariant mass residual R(M), with a similar procedure as above:\n",
    "  * Make a 1D histogram of the dimuon invariant mass residuals R(M): A histogram (h_MassRes) for the invariant mass resolution residual, which is defined as (M<sub>rec</sub> - M<sub>gen</sub> )/M<sub>gen</sub>. \n",
    "  * Fit this distribution to a Gaussian.\n",
    "    \n",
    "### Fill in the code below to plot and fit the distribution\n",
    "* define R(M) as a variable called `mass_res`\n",
    "* add a line in for loop to fill the histogram\n",
    "* add a line at the end of the cell to fit the distribution to a Gaussian"
   ]
  },
  {
   "cell_type": "code",
   "execution_count": null,
   "metadata": {
    "scrolled": false
   },
   "outputs": [],
   "source": [
    "mass_res=\n",
    "\n",
    "c7 = ROOT.TCanvas(\"massresidual\",\"\",900,600)\n",
    "h_MassRes = ROOT.TH1F(\"h_MassRes\",\"Mass Resolution Residual\",80,-0.15,0.15)\n",
    "for res in mass_res:\n",
    "    ### fill histogram here\n",
    "    \n",
    "h_MassRes.Draw()\n",
    "c7.Draw()\n",
    "# add a line here to fit the histogram"
   ]
  },
  {
   "cell_type": "markdown",
   "metadata": {},
   "source": [
    "We will make a [TProfile histograms](http://root.cern.ch/root/html/TProfile.html) (prof_MupTvspTRes and prof_MuEtavspTRes) of muon transverse momentum residuals  as a function of muon pT and &eta;.\n",
    "Note that, by default, a [TProfile](http://root.cern.ch/root/html/TProfile.html) will display in each bin the <span style='color:red'> mean value $\\pm$ mean value error </span> (i.e. RMS/$\\sqrt(N)$). Initializing the [TProfile](http://root.cern.ch/root/html/TProfile.html)  with option \"s\" instead, it will display <span style='color:red'> mean value $\\pm$ RMS </span>. This is more useful for us, as the RMS estimates the standard deviation, i.e. the resolution of each bin. \n",
    "\n",
    "Let's first plot the muon pT residual as a function of eta:"
   ]
  },
  {
   "cell_type": "code",
   "execution_count": null,
   "metadata": {},
   "outputs": [],
   "source": [
    "prof_MuEtavspTRes = ROOT.TProfile(\"prof_MuEtavspTRes\",\";Gen Muon #eta;#Delta p_{T}/p_{T}\",50,-2.4,2.4,0,1,'s')\n",
    "for ptres, eta in zip(pt_res, ak.flatten(two_opposite_good_muons.matched_gen.eta)):\n",
    "    prof_MuEtavspTRes.Fill(eta, ptres, 1)\n",
    "c8 = ROOT.TCanvas(\"muetavsptres\",\"\",900,600)\n",
    "prof_MuEtavspTRes.Draw()\n",
    "c8.Draw()"
   ]
  },
  {
   "cell_type": "markdown",
   "metadata": {},
   "source": [
    "Now can you plot the muon pT residual as a function of pT?"
   ]
  },
  {
   "cell_type": "code",
   "execution_count": null,
   "metadata": {},
   "outputs": [],
   "source": [
    "prof_MupTvspTRes = \n",
    "\n",
    "c9 = ROOT.TCanvas(\"muptvsptres\",\"\",900,600)\n",
    "prof_MupTvspTRes.Draw()\n",
    "c9.Draw()"
   ]
  },
  {
   "cell_type": "markdown",
   "metadata": {},
   "source": [
    "**Questions 2**:\n",
    "* What is the typical 1/pT resolution of a 50 GeV muon measured in the CMS detector?\n",
    "* How does the 1/pT resolution scale with transverse momentum? And with the pseudorapidity?\n",
    "* Why is the mass residual not a perfect Gaussian distribution?\n",
    "* How is the 1/pT resolution related to the invariant mass resolution?"
   ]
  },
  {
   "cell_type": "markdown",
   "metadata": {},
   "source": [
    "# Step 3: Momentum scale corrections"
   ]
  },
  {
   "cell_type": "markdown",
   "metadata": {},
   "source": [
    "As mentioned in the introduction, small biases in the muon momentum measurement can be recovered by applying specific corrections. In CMS we have several algorithms to compute such corrections to the momentum scale and/or resolution. They are documented in this MUO POG [TWiki page](https://twiki.cern.ch/twiki/bin/view/CMS/MuonReferenceScaleResolRun2). In the following, we will demonstrate the use of one of these correction strategies, called _Rochester algorithm_. The details of the algorithm and how it computes the corrections are beyond the goals of this exercise. Suffice it to say that it extracts correction factors by \"forcing\" muons from (mostly) Z&rarr;&mu;&mu; decays to coincide with reference distributions obtained from Monte Carlo generated muons. For more details, check out  [EPJC V72, 10.2194 (2012)](https://link.springer.com/article/10.1140%2Fepjc%2Fs10052-012-2194-8) [arXiv:1208.3710](https://arxiv.org/abs/1208.3710) or the link above.\n"
   ]
  },
  {
   "cell_type": "markdown",
   "metadata": {},
   "source": [
    "Since Run 3, the corrections are provided in JSON format that can be read with the correctionlib package. Code to calculate the corrected pT vaues for invidivual muons based on these corrections is also provided by Muon POG on [gitlab](https://gitlab.cern.ch/cms-muonPOG/muonscarekit/-/tree/master?ref_type=heads). This will be moved to central repositories maintained by CAT and XPOG in the future.  "
   ]
  },
  {
   "cell_type": "code",
   "execution_count": null,
   "metadata": {},
   "outputs": [],
   "source": [
    "from MuonScaRe import pt_resol, pt_scale\n",
    "import correctionlib"
   ]
  },
  {
   "cell_type": "code",
   "execution_count": null,
   "metadata": {
    "scrolled": true
   },
   "outputs": [],
   "source": [
    "cset = correctionlib.CorrectionSet.from_file(\"2022_schemaV2.json\")\n",
    "\n",
    "print (cset.get(\"cb_params\").evaluate(1.3, 8., 0))\n",
    "\n",
    "#For MC, we need to apply both scale and resolution correction. We apply scale corrections first\n",
    "two_opposite_good_muons[\"pt_scalecorr\"] = pt_scale(0, two_opposite_good_muons.pt, two_opposite_good_muons.eta, two_opposite_good_muons.phi, two_opposite_good_muons.charge, \"nom\", cset)\n",
    "#Next, we apply resolution corrections using the scale-corrected pT values as input\n",
    "two_opposite_good_muons[\"pt_fullcorr\"] = pt_resol(two_opposite_good_muons.pt_scalecorr, two_opposite_good_muons.eta, two_opposite_good_muons.nTrackerLayers, \"nom\", cset)"
   ]
  },
  {
   "cell_type": "code",
   "execution_count": null,
   "metadata": {
    "scrolled": true
   },
   "outputs": [],
   "source": [
    "from coffea.nanoevents.methods import candidate\n",
    "muonCorrected = ak.zip({\n",
    "            \"pt\": two_opposite_good_muons.pt_fullcorr,\n",
    "            \"eta\": two_opposite_good_muons.eta,\n",
    "            \"phi\": two_opposite_good_muons.phi,\n",
    "            \"mass\": two_opposite_good_muons.mass,\n",
    "            \"charge\": two_opposite_good_muons.charge,\n",
    "            \"isolation\": two_opposite_good_muons.pfRelIso03_all,\n",
    "        }, with_name=\"PtEtaPhiMCandidate\", behavior=candidate.behavior)\n"
   ]
  },
  {
   "cell_type": "code",
   "execution_count": null,
   "metadata": {
    "scrolled": true
   },
   "outputs": [],
   "source": [
    "dimuon_p4_corr=muonCorrected[:,0]+muonCorrected[:,1]"
   ]
  },
  {
   "cell_type": "code",
   "execution_count": null,
   "metadata": {
    "scrolled": true
   },
   "outputs": [],
   "source": [
    "dimuon_mass_mask=(dimuon_p4_corr.mass>70)&(dimuon_p4_corr.mass<110)"
   ]
  },
  {
   "cell_type": "code",
   "execution_count": null,
   "metadata": {
    "scrolled": false
   },
   "outputs": [],
   "source": [
    "plt.figure(figsize=(9,6))\n",
    "plt.hist(dimuon_p4_corr.mass[dimuon_mass_mask], bins=100, range=[40,140], histtype='step',linewidth=2, color='blue', label='dimuon invariant mass')\n",
    "plt.title('Dimuon Invariant Mass distribution')\n",
    "plt.xlabel('dimuon invariant mass [GeV]')\n",
    "plt.ylabel('Events')"
   ]
  },
  {
   "cell_type": "markdown",
   "metadata": {},
   "source": [
    "Now lets get their corresponding genpart and gen dimuon mass."
   ]
  },
  {
   "cell_type": "code",
   "execution_count": null,
   "metadata": {
    "scrolled": false
   },
   "outputs": [],
   "source": [
    "plt.figure(figsize=(9,6))\n",
    "plt.hist(gen_dimuon_p4.mass, bins=100, range=[40,140], histtype='step', linewidth=2, color='blue', label='gen dimuon_mass')\n",
    "#plt.legend()\n",
    "plt.title('Gen-level Dimuon Invariant Mass distribution')\n",
    "plt.xlabel('gen dimuon mass [GeV]')\n",
    "plt.ylabel('Events')"
   ]
  },
  {
   "cell_type": "code",
   "execution_count": null,
   "metadata": {
    "scrolled": true
   },
   "outputs": [],
   "source": [
    "c10 = ROOT.TCanvas(\"gendimuonmass\",\"\",900,600)\n",
    "h_GenDiMuonM = ROOT.TH1F(\"h_GenDiMuonM\",\";m_{#mu^{+}#mu^{-}};\",80,70,110)\n",
    "for m in gen_dimuon_p4.mass:\n",
    "    h_GenDiMuonM.Fill(m)\n",
    "h_GenDiMuonM.Draw()\n",
    "c10.Draw()\n",
    "f2 = ROOT.TF1(\"f2\", \"[0]*TMath::BreitWigner(x, [1], [2])\", 86., 96.)\n",
    "f2.SetParameter(1, 91.1876)\n",
    "f2.SetParameter(2, 2.4952)\n",
    "h_GenDiMuonM.Fit(\"f2\", \"\", \"\", 86., 96.)\n",
    "ROOT.gStyle.SetOptFit(1111)\n",
    "c10.Draw()"
   ]
  },
  {
   "cell_type": "code",
   "execution_count": null,
   "metadata": {},
   "outputs": [],
   "source": [
    "c11 = ROOT.TCanvas(\"recdimuonmass\",\"\",900,600)\n",
    "h_RecDiMuonM = ROOT.TH1F(\"h_RecDiMuonM\",\";m_{#mu^{+}#mu^{-}};\",80,70,110)\n",
    "for m in dimuon_p4_corr.mass:\n",
    "    h_RecDiMuonM.Fill(m)\n",
    "h_RecDiMuonM.Draw()\n",
    "c11.Draw()\n",
    "f1 = ROOT.TF1(\"f1\", \"[0]*TMath::Voigt(x-[1], [2], [3])\", 86., 96.)\n",
    "f1.SetParameter(1, 91.1876)\n",
    "f1.SetParameter(3, 2.4952)\n",
    "h_RecDiMuonM.Fit(\"f1\", \"\", \"\", 86., 96.)\n",
    "ROOT.gStyle.SetOptFit(1111)\n",
    "c11.Draw()\n",
    "#h_RecDiMuonM.Fit(\"gaus\",\"\",\"\", 86., 96.)"
   ]
  },
  {
   "cell_type": "code",
   "execution_count": null,
   "metadata": {},
   "outputs": [],
   "source": [
    "pt_res=ak.flatten(two_opposite_good_muons.matched_gen.pt)/ak.flatten(two_opposite_good_muons.pt_fullcorr)-1\n",
    "plt.figure(figsize=(9,6))\n",
    "plt.hist(pt_res, bins=100, range=[-0.25,0.25], histtype='step',linewidth=2, color='blue', label='$1/p_T$ residual')\n",
    "#plt.legend()\n",
    "plt.title('Distribution of $1/p_T$ residual')\n",
    "plt.xlabel('$1/p_T$ residual')\n",
    "plt.ylabel('Events')"
   ]
  },
  {
   "cell_type": "code",
   "execution_count": null,
   "metadata": {
    "scrolled": true
   },
   "outputs": [],
   "source": [
    "mass_res=dimuon_p4_corr.mass/gen_dimuon_p4.mass-1"
   ]
  },
  {
   "cell_type": "code",
   "execution_count": null,
   "metadata": {},
   "outputs": [],
   "source": [
    "plt.figure(figsize=(9,6))\n",
    "plt.hist(mass_res, bins=100, range=[-0.25,0.25], histtype='step', linewidth=2, color='blue', label='mass_residual')\n",
    "#plt.legend()\n",
    "plt.title('Mass residual')\n",
    "plt.xlabel('mass_residual')\n",
    "plt.ylabel('Events')"
   ]
  },
  {
   "cell_type": "code",
   "execution_count": null,
   "metadata": {},
   "outputs": [],
   "source": [
    "c16 = ROOT.TCanvas(\"ptresidual\",\"\",900,600)\n",
    "h_MupTRes = ROOT.TH1F(\"h_MupTRes\",\"Muon p_{T} resolution;#Delta p_{T}/p_{T};\",80,-0.2,0.2)\n",
    "for res in pt_res:\n",
    "    h_MupTRes.Fill(res)\n",
    "h_MupTRes.Draw()\n",
    "c16.Draw()\n",
    "h_MupTRes.Fit(\"gaus\")"
   ]
  },
  {
   "cell_type": "code",
   "execution_count": null,
   "metadata": {},
   "outputs": [],
   "source": [
    "c17 = ROOT.TCanvas(\"massresidual\",\"\",900,600)\n",
    "h_MassRes = ROOT.TH1F(\"h_MassRes\",\"Mass Resolution Residual\",80,-0.15,0.15)\n",
    "for res in mass_res:\n",
    "    h_MassRes.Fill(res)\n",
    "h_MassRes.Draw()\n",
    "c17.Draw()\n",
    "h_MassRes.Fit(\"gaus\")"
   ]
  },
  {
   "cell_type": "code",
   "execution_count": null,
   "metadata": {},
   "outputs": [],
   "source": [
    "prof_MuEtavspTRes = ROOT.TProfile(\"prof_MuEtavspTRes\",\";Gen Muon #eta;#Delta p_{T}/p_{T}\",50,-2.4,2.4,0,1,'s')\n",
    "for ptres, eta in zip(pt_res, ak.flatten(two_opposite_good_muons.matched_gen.eta)):\n",
    "    prof_MuEtavspTRes.Fill(eta, ptres, 1)\n",
    "c18 = ROOT.TCanvas(\"muetavsptres\",\"\",900,600)\n",
    "prof_MuEtavspTRes.Draw()\n",
    "c18.Draw()"
   ]
  },
  {
   "cell_type": "code",
   "execution_count": null,
   "metadata": {},
   "outputs": [],
   "source": [
    "prof_MupTvspTRes = ROOT.TProfile(\"prof_MupTvspTRes\",\";Gen Muon p_{T} [GeV];#Delta p_{T}/p_{T}\",25,20,100,0,1,'s')\n",
    "for ptres, pt in zip(pt_res, ak.flatten(two_opposite_good_muons.matched_gen.pt)):\n",
    "    prof_MupTvspTRes.Fill(pt, ptres, 1)\n",
    "c19 = ROOT.TCanvas(\"muptvsptres\",\"\",900,600)\n",
    "prof_MupTvspTRes.Draw()\n",
    "c19.Draw()"
   ]
  },
  {
   "cell_type": "markdown",
   "metadata": {
    "scrolled": false
   },
   "source": [
    "**Questions 3:**\n",
    "   * Describe the main differences that you observe between the uncorrected and corrected distributions. \n",
    "   * Does the corrected mass spectrum get closer to the generated mass spectrum, and the peak closer to the PDG value? \n",
    "   * How did the resolution change after the corrections? How would you explain it? "
   ]
  },
  {
   "cell_type": "code",
   "execution_count": null,
   "metadata": {},
   "outputs": [],
   "source": []
  }
 ],
 "metadata": {
  "kernelspec": {
   "display_name": "Python 3 (ipykernel)",
   "language": "python",
   "name": "python3"
  },
  "language_info": {
   "codemirror_mode": {
    "name": "ipython",
    "version": 3
   },
   "file_extension": ".py",
   "mimetype": "text/x-python",
   "name": "python",
   "nbconvert_exporter": "python",
   "pygments_lexer": "ipython3",
   "version": "3.9.12"
  }
 },
 "nbformat": 4,
 "nbformat_minor": 4
}
