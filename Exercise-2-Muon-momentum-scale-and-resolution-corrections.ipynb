{
 "cells": [
  {
   "cell_type": "markdown",
   "metadata": {},
   "source": [
    "The measurement of the muon transverse momentum of muons is sensitive to several detector conditions:\n",
    "   * the *alignment* of the tracker and of the muon chambers\n",
    "   * the *composition and distribution of the material* inside the tracking volume\n",
    "   * the knowledge of the *magnetic field* inside and outside the solenoid volume.\n",
    "<br>\n",
    "\n",
    "All these conditions affect differently the momentum measurement and can produce biases. In particular, the detector misalignment produces a relative bias that generally increases linearly with the momentum. For this reason it is extremely important to have an accurate knowledge of the tracker and muon spectrometer alignment, and a detailed mapping of the detector material and of the magnetic field. Residual biases can be corrected *a posteriori*, using calibration techniques that generally exploit data from very well-known processes, such as J/&psi;&rarr;&mu;&mu; or Z&rarr;&mu;&mu; decays."
   ]
  },
  {
   "cell_type": "code",
   "execution_count": 5,
   "metadata": {
    "scrolled": true
   },
   "outputs": [],
   "source": [
    "import uproot\n",
    "import matplotlib.pyplot as plt\n",
    "import numpy as np\n",
    "import awkward as ak\n",
    "from coffea.nanoevents import NanoEventsFactory, NanoAODSchema\n",
    "import ROOT"
   ]
  },
  {
   "cell_type": "code",
   "execution_count": 6,
   "metadata": {
    "scrolled": true
   },
   "outputs": [
    {
     "name": "stderr",
     "output_type": "stream",
     "text": [
      "/depot/cms/kernels/hats2024/lib/python3.12/site-packages/coffea/nanoevents/methods/candidate.py:11: FutureWarning: In version 2024.7.0 (target date: 2024-06-30 11:59:59-05:00), this will be an error.\n",
      "To raise these warnings as errors (and get stack traces to find out where they're called), run\n",
      "    import warnings\n",
      "    warnings.filterwarnings(\"error\", module=\"coffea.*\")\n",
      "after the first `import coffea` or use `@pytest.mark.filterwarnings(\"error:::coffea.*\")` in pytest.\n",
      "Issue: coffea.nanoevents.methods.vector will be removed and replaced with scikit-hep vector. Nanoevents schemas internal to coffea will be migrated. Otherwise please consider using that package!.\n",
      "  from coffea.nanoevents.methods import vector\n"
     ]
    }
   ],
   "source": [
    "#events=uproot.open('/eos/purdue/store/mc/Run3Summer22NanoAODv13/DYJetsToLL_M-50_TuneCP5_13p6TeV-madgraphMLM-pythia8/NANOAODSIM/133X_mcRun3_2022_realistic_ForNanov13_v1-v1/50000/1c16ff7d-a4ad-44cd-80fd-42840958ce79.root')['Events']\n",
    "#file=uproot.open('~/Downloads/DYJetsToMuMu_M-50_TuneCP5_13TeV-madgraphMLM-pythia8.root')['Events']\n",
    "events = NanoEventsFactory.from_root(\n",
    "    {'/eos/purdue/store/mc/Run3Summer22NanoAODv13/DYJetsToLL_M-50_TuneCP5_13p6TeV-madgraphMLM-pythia8/NANOAODSIM/133X_mcRun3_2022_realistic_ForNanov13_v1-v1/50000/1c16ff7d-a4ad-44cd-80fd-42840958ce79.root': \"Events\"}, # We pass a dictionary of {filename1: treename1, filename2: treename2, ...} to load from\n",
    "    schemaclass=NanoAODSchema,\n",
    "    metadata={\"dataset\": \"DYJets\"},\n",
    "    delayed=False, # You can turn this to True and insert `` commands at the end of variables\n",
    ").events()"
   ]
  },
  {
   "cell_type": "code",
   "execution_count": 7,
   "metadata": {
    "scrolled": true
   },
   "outputs": [],
   "source": [
    "muon=events.Muon"
   ]
  },
  {
   "cell_type": "markdown",
   "metadata": {},
   "source": [
    "# Step 1: Generated and reconstructed dimuon Z mass\n",
    "First, lets reconstruct dimuon z mass.\n",
    "reapplying previous code. Using the following criteria to select two well-defined and isolated muons. For instance, you can require that both muons pass:<br>\n",
    "\n",
    "* Muon_genPartIdx!=-1(each muon must have an associated generated particle)\n",
    "* Muon_isGlobal==1\n",
    "* Muon_pt>20.\n",
    "* abs(Muon_eta)<2.4\n",
    "* Muon_pfRelIso03_chg<0.15"
   ]
  },
  {
   "cell_type": "code",
   "execution_count": 8,
   "metadata": {
    "scrolled": true
   },
   "outputs": [],
   "source": [
    "muon_mask=(muon.genPartIdx!=-1)& (muon.isGlobal==1)& (muon.pt>20)& (abs(muon.eta)<2.4)& (muon.pfRelIso03_chg<0.15)"
   ]
  },
  {
   "cell_type": "code",
   "execution_count": 9,
   "metadata": {
    "scrolled": true
   },
   "outputs": [],
   "source": [
    "muons_good=muon[muon_mask]"
   ]
  },
  {
   "cell_type": "markdown",
   "metadata": {},
   "source": [
    "We only keep events with 2 good muons. There are 6 events with over 2 muons, we will ignore them for simplicity."
   ]
  },
  {
   "cell_type": "code",
   "execution_count": 10,
   "metadata": {
    "scrolled": true
   },
   "outputs": [],
   "source": [
    "two_good_muons=muons_good[ak.num(muons_good)==2]"
   ]
  },
  {
   "cell_type": "code",
   "execution_count": 11,
   "metadata": {
    "scrolled": true
   },
   "outputs": [
    {
     "data": {
      "text/html": [
       "<pre>[[1, -1],\n",
       " [-1, 1],\n",
       " [-1, 1],\n",
       " [-1, 1],\n",
       " [1, -1],\n",
       " [-1, 1],\n",
       " [1, -1],\n",
       " [-1, 1],\n",
       " [1, -1],\n",
       " [1, -1],\n",
       " ...,\n",
       " [1, -1],\n",
       " [-1, 1],\n",
       " [-1, 1],\n",
       " [-1, 1],\n",
       " [-1, 1],\n",
       " [-1, 1],\n",
       " [-1, 1],\n",
       " [-1, 1],\n",
       " [1, -1]]\n",
       "-------------------------------------------------------------------\n",
       "type: 1353 * var * int32[parameters={&quot;__doc__&quot;: &quot;electric charge&quot;}]</pre>"
      ],
      "text/plain": [
       "<Array [[1, -1], [-1, 1], ..., [...], [1, -1]] type='1353 * var * int32[par...'>"
      ]
     },
     "execution_count": 11,
     "metadata": {},
     "output_type": "execute_result"
    }
   ],
   "source": [
    "two_good_muons.charge"
   ]
  },
  {
   "cell_type": "markdown",
   "metadata": {},
   "source": [
    "Lets make sure muons in eaach events have opposite charge"
   ]
  },
  {
   "cell_type": "code",
   "execution_count": 12,
   "metadata": {
    "scrolled": true
   },
   "outputs": [],
   "source": [
    "opposite_sign_muon_mask=(two_good_muons.charge[:,0]!=two_good_muons.charge[:,1])"
   ]
  },
  {
   "cell_type": "code",
   "execution_count": 13,
   "metadata": {
    "scrolled": true
   },
   "outputs": [],
   "source": [
    "two_opposite_good_muons=two_good_muons[opposite_sign_muon_mask]"
   ]
  },
  {
   "cell_type": "code",
   "execution_count": 13,
   "metadata": {
    "scrolled": true
   },
   "outputs": [],
   "source": [
    "dimuon_p4 = (two_opposite_good_muons[:, 0] + two_opposite_good_muons[:, 1])"
   ]
  },
  {
   "cell_type": "code",
   "execution_count": 14,
   "metadata": {
    "scrolled": true
   },
   "outputs": [
    {
     "name": "stdout",
     "output_type": "stream",
     "text": [
      "[92, 84.5, 94.3, 92.5, 93.2, 56.2, 87.4, ..., 94, 90.4, 88.3, 87.1, 86.5, 98.9]\n"
     ]
    }
   ],
   "source": [
    "print(dimuon_p4.mass)"
   ]
  },
  {
   "cell_type": "markdown",
   "metadata": {},
   "source": [
    "We can further restrict the selection by requiring the invariant mass is between 70 and 110 GeV"
   ]
  },
  {
   "cell_type": "code",
   "execution_count": 17,
   "metadata": {
    "scrolled": true
   },
   "outputs": [],
   "source": [
    "dimuon_mass_mask=((dimuon_p4.mass>70)&(dimuon_p4.mass<110))"
   ]
  },
  {
   "cell_type": "code",
   "execution_count": 18,
   "metadata": {},
   "outputs": [
    {
     "data": {
      "text/plain": [
       "Text(0, 0.5, 'Events')"
      ]
     },
     "execution_count": 18,
     "metadata": {},
     "output_type": "execute_result"
    },
    {
     "data": {
      "image/png": "[encoded data removed]",
      "text/plain": [
       "<Figure size 900x600 with 1 Axes>"
      ]
     },
     "metadata": {},
     "output_type": "display_data"
    }
   ],
   "source": [
    "plt.figure(figsize=(9,6))\n",
    "plt.hist(dimuon_p4.mass[dimuon_mass_mask], bins=100, range=[40,140], histtype='step',linewidth=2, color='blue', label='dimuon invariant mass')\n",
    "plt.title('Dimuon Invariant Mass distribution')\n",
    "plt.xlabel('dimuon invariant mass [GeV]')\n",
    "plt.ylabel('Events')"
   ]
  },
  {
   "cell_type": "markdown",
   "metadata": {},
   "source": [
    "Now lets get their corresponding genpart and gen dimuon mass."
   ]
  },
  {
   "cell_type": "code",
   "execution_count": 19,
   "metadata": {
    "scrolled": true
   },
   "outputs": [],
   "source": [
    "gen_muon=two_opposite_good_muons.matched_gen"
   ]
  },
  {
   "cell_type": "code",
   "execution_count": 20,
   "metadata": {
    "scrolled": true
   },
   "outputs": [
    {
     "name": "stdout",
     "output_type": "stream",
     "text": [
      "[90.8, 87.3, 92.9, 92.1, 94.3, 55.7, ..., 92.3, 90.1, 86.8, 87.8, 85.5, 99.6]\n"
     ]
    }
   ],
   "source": [
    "gen_dimuon_p4=gen_muon[:,0]+gen_muon[:,1]\n",
    "print(gen_dimuon_p4.mass)"
   ]
  },
  {
   "cell_type": "code",
   "execution_count": 21,
   "metadata": {},
   "outputs": [
    {
     "data": {
      "text/plain": [
       "Text(0, 0.5, 'Events')"
      ]
     },
     "execution_count": 21,
     "metadata": {},
     "output_type": "execute_result"
    },
    {
     "data": {
      "image/png": "[encoded data removed]",
      "text/plain": [
       "<Figure size 900x600 with 1 Axes>"
      ]
     },
     "metadata": {},
     "output_type": "display_data"
    }
   ],
   "source": [
    "plt.figure(figsize=(9,6))\n",
    "plt.hist(gen_dimuon_p4.mass, bins=100, range=[40,140], histtype='step', linewidth=2, color='blue', label='gen dimuon_mass')\n",
    "#plt.legend()\n",
    "plt.title('Gen-level Dimuon Invariant Mass distribution')\n",
    "plt.xlabel('gen dimuon mass [GeV]')\n",
    "plt.ylabel('Events')"
   ]
  },
  {
   "cell_type": "markdown",
   "metadata": {},
   "source": [
    "Then, we fit both generated and reconstructed Z mass.<br>\n",
    "Keep in mind that the Z line shape is not Gaussian, so the Gaussian fit might not be perfect. We then fit them with more suitable functions for each case, e.g. a Breit-Wigner function for the generated mass and a Voigt function (i.e. a convolution of a Breit-Wigner with a Gaussian) for the reconstructed mass. You can easily do this from the ROOT e.g.:"
   ]
  },
  {
   "cell_type": "code",
   "execution_count": 22,
   "metadata": {},
   "outputs": [
    {
     "name": "stdout",
     "output_type": "stream",
     "text": [
      "****************************************\n",
      "Minimizer is Minuit2 / Migrad\n",
      "Chi2                      =      23.5273\n",
      "NDf                       =           17\n",
      "Edm                       =  4.95447e-07\n",
      "NCalls                    =           84\n",
      "p0                        =      612.019   +/-   20.203      \n",
      "p1                        =      91.0208   +/-   0.0580336   \n",
      "p2                        =      2.78605   +/-   0.141504    \n"
     ]
    },
    {
     "data": {
      "image/png": "[encoded data removed]",
      "text/plain": [
       "<IPython.core.display.Image object>"
      ]
     },
     "metadata": {},
     "output_type": "display_data"
    }
   ],
   "source": [
    "c1 = ROOT.TCanvas(\"gendimuonmass\",\"\",900,600)\n",
    "h_GenDiMuonM = ROOT.TH1F(\"h_GenDiMuonM\",\";m_{#mu^{+}#mu^{-}};\",80,70,110)\n",
    "for m in gen_dimuon_p4.mass:\n",
    "    h_GenDiMuonM.Fill(m)\n",
    "h_GenDiMuonM.Draw()\n",
    "c1.Draw()\n",
    "f2 = ROOT.TF1(\"f2\", \"[0]*TMath::BreitWigner(x, [1], [2])\", 86., 96.)\n",
    "f2.SetParameter(1, 91.1876)\n",
    "f2.SetParameter(2, 2.4952)\n",
    "h_GenDiMuonM.Fit(\"f2\", \"\", \"\", 86., 96.)\n",
    "ROOT.gStyle.SetOptFit(1111)\n",
    "c1.Draw()"
   ]
  },
  {
   "cell_type": "code",
   "execution_count": 23,
   "metadata": {},
   "outputs": [
    {
     "name": "stdout",
     "output_type": "stream",
     "text": [
      "****************************************\n",
      "Minimizer is Minuit2 / Migrad\n",
      "Chi2                      =      15.5076\n",
      "NDf                       =           16\n",
      "Edm                       =  1.76883e-07\n",
      "NCalls                    =          133\n",
      "p0                        =      625.477   +/-   23.3215     \n",
      "p1                        =      90.9318   +/-   0.0869541   \n",
      "p2                        =      1.37472   +/-   3.36133e-05 \n",
      "p3                        =       2.8167   +/-   0.261617    \n"
     ]
    },
    {
     "data": {
      "image/png": "[encoded data removed]",
      "text/plain": [
       "<IPython.core.display.Image object>"
      ]
     },
     "metadata": {},
     "output_type": "display_data"
    }
   ],
   "source": [
    "c2 = ROOT.TCanvas(\"recdimuonmass\",\"\",900,600)\n",
    "h_RecDiMuonM = ROOT.TH1F(\"h_RecDiMuonM\",\";m_{#mu^{+}#mu^{-}};\",80,70,110)\n",
    "for m in dimuon_p4.mass:\n",
    "    h_RecDiMuonM.Fill(m)\n",
    "h_RecDiMuonM.Draw()\n",
    "c2.Draw()\n",
    "f1 = ROOT.TF1(\"f1\", \"[0]*TMath::Voigt(x-[1], [2], [3])\", 86., 96.)\n",
    "f1.SetParameter(1, 91.1876)\n",
    "f1.SetParameter(3, 2.4952)\n",
    "h_RecDiMuonM.Fit(\"f1\", \"\", \"\", 86., 96.)\n",
    "ROOT.gStyle.SetOptFit(1111)\n",
    "c2.Draw()\n",
    "#h_RecDiMuonM.Fit(\"gaus\",\"\",\"\", 86., 96.)"
   ]
  },
  {
   "cell_type": "markdown",
   "metadata": {},
   "source": [
    "**Questions 1:**\n",
    "   * Compare the mean values obtained from the fits to the generated and reconstructed distributions. Are they compatible or do they differ significantly? How do they compare to the nominal Z mass value, m<sub>Z</sub> = 91.1876 GeV? Which distribution has the larger shift with respect to m<sub>Z</sub>?\n",
    "   * Compare the widths of the two distributions (GEN and RECO). Which one is larger? Can you explain why? \n",
    "   * Considering that the natural width of the Z boson is &Gamma;<sub>Z</sub> = 2.4952 GeV, can you roughly estimate the typical dimuon mass resolution of Z&rarr;&mu;&mu; events measured with the CMS detector?(*Note:* with a _Voigtian_ fit, you would get an estimate of the  mass resolution directly from the fit) \n",
    "   * Why do you need different functions to better fit the generated and reconstructed mass distributions? What differs between the two? If you had to fit the peak of a reconstructed J/&psi; instead, what function would you use, and why?\n",
    "\n"
   ]
  },
  {
   "cell_type": "markdown",
   "metadata": {},
   "source": [
    "# Step 2: Investigate the shape of the dimuon mass spectrum\n",
    "Next, we will create [TProfile histograms](http://root.cern.ch/root/html/TProfile.html) of the reconstructed dimuon invariant mass _vs_ azimuthal coordinate of the muon direction (&phi;), separately for positive and negative muons, as well as the dimuon mass _vs_ pseudorapidity (&eta;) of the muon. E.g.:"
   ]
  },
  {
   "cell_type": "code",
   "execution_count": 24,
   "metadata": {
    "scrolled": true
   },
   "outputs": [],
   "source": [
    "prof_MuPlusPhiVsDiMuonM=ROOT.TProfile(\"prof_MuPlusPhivsDiMuonM\",\"#mu^{+} #phi vs m_{#mu^{+}#mu^{-}};Reco muon(+) #phi[rad]; Z peak position [GeV/c^2]\",16,-3.14,3.14,88,93)"
   ]
  },
  {
   "cell_type": "code",
   "execution_count": 25,
   "metadata": {
    "scrolled": true
   },
   "outputs": [],
   "source": [
    "mup_phi=ak.flatten(two_opposite_good_muons.phi[two_opposite_good_muons.charge>0])"
   ]
  },
  {
   "cell_type": "code",
   "execution_count": 26,
   "metadata": {
    "scrolled": true
   },
   "outputs": [],
   "source": [
    "for phi, m in zip(mup_phi[dimuon_mass_mask], (dimuon_p4.mass)[dimuon_mass_mask]):\n",
    "   prof_MuPlusPhiVsDiMuonM.Fill(phi, m, 1)"
   ]
  },
  {
   "cell_type": "code",
   "execution_count": 27,
   "metadata": {
    "scrolled": true
   },
   "outputs": [],
   "source": [
    "c3 = ROOT.TCanvas(\"mupphidimum\",\"\",900,600)\n",
    "prof_MuPlusPhiVsDiMuonM.Draw()"
   ]
  },
  {
   "cell_type": "code",
   "execution_count": 28,
   "metadata": {},
   "outputs": [
    {
     "data": {
      "image/png": "[encoded data removed]",
      "text/plain": [
       "<IPython.core.display.Image object>"
      ]
     },
     "metadata": {},
     "output_type": "display_data"
    }
   ],
   "source": [
    "c3.Draw()"
   ]
  },
  {
   "cell_type": "code",
   "execution_count": 29,
   "metadata": {
    "scrolled": true
   },
   "outputs": [],
   "source": [
    "mum_phi=ak.flatten(two_opposite_good_muons.phi[two_opposite_good_muons.charge<0])\n",
    "prof_MuMinusPhivsDiMuonM = ROOT.TProfile(\"prof_MuMinusPhivsDiMuonM\",\"#mu^{-} #phi vs m_{#mu^{+}#mu^{-}};Reco muon(-) #phi[rad];Z peak position [GeV/c^2]\",16,-3.14,3.14,88,93)"
   ]
  },
  {
   "cell_type": "code",
   "execution_count": 30,
   "metadata": {
    "scrolled": true
   },
   "outputs": [],
   "source": [
    "for phi, m in zip(mum_phi[dimuon_mass_mask], (dimuon_p4.mass)[dimuon_mass_mask]):\n",
    "   prof_MuMinusPhivsDiMuonM.Fill(phi, m, 1)"
   ]
  },
  {
   "cell_type": "code",
   "execution_count": 31,
   "metadata": {},
   "outputs": [
    {
     "data": {
      "image/png": "[encoded data removed]",
      "text/plain": [
       "<IPython.core.display.Image object>"
      ]
     },
     "metadata": {},
     "output_type": "display_data"
    }
   ],
   "source": [
    "c4 = ROOT.TCanvas(\"mumphidimum\",\"\",900,600)\n",
    "prof_MuMinusPhivsDiMuonM.Draw()\n",
    "c4.Draw()"
   ]
  },
  {
   "cell_type": "code",
   "execution_count": 32,
   "metadata": {
    "scrolled": true
   },
   "outputs": [],
   "source": [
    "prof_MuEtavsDiMuonM = ROOT.TProfile(\"prof_MuEtavsDiMuonM\",\"Muon #eta vs m_{#mu^{+}#mu^{-}};Reco Muon #eta; Z peak position [GeV/c^2]\",50,-2.4,2.4,88,93)"
   ]
  },
  {
   "cell_type": "code",
   "execution_count": 33,
   "metadata": {
    "scrolled": true
   },
   "outputs": [],
   "source": [
    "for eta1, eta2, m in zip(two_opposite_good_muons[dimuon_mass_mask].eta[:,0],\n",
    "                         two_opposite_good_muons[dimuon_mass_mask].eta[:,0],\n",
    "                         dimuon_p4.mass[dimuon_mass_mask]):\n",
    "    prof_MuEtavsDiMuonM.Fill(eta1, m, 1)\n",
    "    prof_MuEtavsDiMuonM.Fill(eta2, m, 1)\n",
    "    "
   ]
  },
  {
   "cell_type": "code",
   "execution_count": 34,
   "metadata": {},
   "outputs": [
    {
     "data": {
      "image/png": "[encoded data removed]",
      "text/plain": [
       "<IPython.core.display.Image object>"
      ]
     },
     "metadata": {},
     "output_type": "display_data"
    }
   ],
   "source": [
    "c5 = ROOT.TCanvas(\"muetadimum\",\"\",900,600)\n",
    "prof_MuEtavsDiMuonM.Draw()\n",
    "c5.Draw()"
   ]
  },
  {
   "cell_type": "markdown",
   "metadata": {},
   "source": [
    "**Questions 2:**\n",
    "   * What do they look like? Is the reconstructed mass flat _vs_ &phi; and &eta; or are there deviations? \n",
    "   * Are the deviations compatible with statistical fluctuations or do you notice a trend? \n",
    "   * What could explain this behavior?\n"
   ]
  },
  {
   "cell_type": "markdown",
   "metadata": {},
   "source": [
    "# Step 3: Investigate the muon transverse momentum resolution"
   ]
  },
  {
   "cell_type": "markdown",
   "metadata": {},
   "source": [
    "Now we will study the muon transverse momentum resolution. We will consider distributions of the transverse momentum residuals, defined as  R(1/pT) = (1/pT<sup>REC</sup> &ndash; 1/pT<sup>GEN</sup>)/(1/pT<sup>GEN</sup>). In the ideal case, the distribution of the residuals is expected to be Gaussian and its standard deviation is the pT resolution. Likewise, we can define the dimuon invariant mass residuals as R(M) = (M<sup>REC</sup> &ndash; M<sup>GEN</sup>)/M<sup>GEN</sup>, and the standard deviation of the R(M) distribution defines the mass resolution. \n",
    "\n",
    "We will create the following histograms:\n",
    "   * 1D histogram of the muon transverse momentum residuals R(1/PT): A histogram (h_MupTRes) of the muon transverse momentum residual using the PAT muons and GEN muons. Fit this distribution to a Gaussian function. The fit parameter sigma gives the muon transverse momentum resolution in the chosen p<sub>T</sub> range.\n",
    "   * 1D histogram of the dimuon invariant mass residuals R(M): A histogram (h_MassRes) for the invariant mass resolution residual, which is defined as (M<sub>rec</sub> - M<sub>gen</sub> )/M<sub>gen</sub>. Fit this distribution to a Gaussian.\n",
    "   * Profile histograms (prof_MupTvspTRes and prof_MuEtavspTRes) of muon transverse momentum residuals  as a function of muon pT and &eta;.\n",
    "Note that, by default, a [TProfile](http://root.cern.ch/root/html/TProfile.html) will display in each bin the <span style='color:red'> mean value $\\pm$ mean value error </span> (i.e. RMS/$\\sqrt(N)$). Initializing the [TProfile](http://root.cern.ch/root/html/TProfile.html)  with option \"s\" instead, it will display <span style='color:red'> mean value $\\pm$ RMS </span>. This is more useful for us, as the RMS estimates the standard deviation, i.e. the resolution of each bin. "
   ]
  },
  {
   "cell_type": "code",
   "execution_count": 35,
   "metadata": {},
   "outputs": [
    {
     "data": {
      "text/plain": [
       "Text(0, 0.5, 'Events')"
      ]
     },
     "execution_count": 35,
     "metadata": {},
     "output_type": "execute_result"
    },
    {
     "data": {
      "image/png": "[encoded data removed]",
      "text/plain": [
       "<Figure size 900x600 with 1 Axes>"
      ]
     },
     "metadata": {},
     "output_type": "display_data"
    }
   ],
   "source": [
    "pt_res=ak.flatten(two_opposite_good_muons.matched_gen.pt)/ak.flatten(two_opposite_good_muons.pt)-1\n",
    "plt.figure(figsize=(9,6))\n",
    "plt.hist(pt_res, bins=100, range=[-0.25,0.25], histtype='step',linewidth=2, color='blue', label='$1/p_T$ residual')\n",
    "#plt.legend()\n",
    "plt.title('Distribution of $1/p_T$ residual')\n",
    "plt.xlabel('$1/p_T$ residual')\n",
    "plt.ylabel('Events')"
   ]
  },
  {
   "cell_type": "code",
   "execution_count": 36,
   "metadata": {
    "scrolled": true
   },
   "outputs": [],
   "source": [
    "mass_res=dimuon_p4.mass/gen_dimuon_p4.mass-1"
   ]
  },
  {
   "cell_type": "code",
   "execution_count": 37,
   "metadata": {},
   "outputs": [
    {
     "data": {
      "text/plain": [
       "Text(0, 0.5, 'Events')"
      ]
     },
     "execution_count": 37,
     "metadata": {},
     "output_type": "execute_result"
    },
    {
     "data": {
      "image/png": "[encoded data removed]",
      "text/plain": [
       "<Figure size 900x600 with 1 Axes>"
      ]
     },
     "metadata": {},
     "output_type": "display_data"
    }
   ],
   "source": [
    "plt.figure(figsize=(9,6))\n",
    "plt.hist(mass_res, bins=100, range=[-0.25,0.25], histtype='step', linewidth=2, color='blue', label='mass_residual')\n",
    "#plt.legend()\n",
    "plt.title('Mass residual')\n",
    "plt.xlabel('mass_residual')\n",
    "plt.ylabel('Events')"
   ]
  },
  {
   "cell_type": "code",
   "execution_count": 38,
   "metadata": {},
   "outputs": [
    {
     "data": {
      "text/plain": [
       "<cppyy.gbl.TFitResultPtr object at 0x563243f69230>"
      ]
     },
     "execution_count": 38,
     "metadata": {},
     "output_type": "execute_result"
    },
    {
     "name": "stdout",
     "output_type": "stream",
     "text": [
      "****************************************\n",
      "Minimizer is Minuit2 / Migrad\n",
      "Chi2                      =      151.879\n",
      "NDf                       =           44\n",
      "Edm                       =  1.56173e-09\n",
      "NCalls                    =           69\n",
      "Constant                  =      327.996   +/-   9.38354     \n",
      "Mean                      =  0.000756398   +/-   0.000308442 \n",
      "Sigma                     =    0.0155268   +/-   0.000320673  \t (limited)\n"
     ]
    },
    {
     "name": "stderr",
     "output_type": "stream",
     "text": [
      "Error in <TFitResultPtr>: TFitResult is empty - use the fit option S\n",
      "Error in <TFitResultPtr>: TFitResult is empty - use the fit option S\n",
      "Error in <TFitResultPtr>: TFitResult is empty - use the fit option S\n",
      "Error in <TFitResultPtr>: TFitResult is empty - use the fit option S\n",
      "Error in <TFitResultPtr>: TFitResult is empty - use the fit option S\n",
      "Error in <TFitResultPtr>: TFitResult is empty - use the fit option S\n",
      "Error in <TFitResultPtr>: TFitResult is empty - use the fit option S\n",
      "Error in <TFitResultPtr>: TFitResult is empty - use the fit option S\n",
      "Error in <TFitResultPtr>: TFitResult is empty - use the fit option S\n",
      "Error in <TFitResultPtr>: TFitResult is empty - use the fit option S\n",
      "Error in <TFitResultPtr>: TFitResult is empty - use the fit option S\n",
      "Error in <TFitResultPtr>: TFitResult is empty - use the fit option S\n",
      "Error in <TFitResultPtr>: TFitResult is empty - use the fit option S\n",
      "Error in <TFitResultPtr>: TFitResult is empty - use the fit option S\n",
      "Error in <TFitResultPtr>: TFitResult is empty - use the fit option S\n",
      "Error in <TFitResultPtr>: TFitResult is empty - use the fit option S\n",
      "Error in <TFitResultPtr>: TFitResult is empty - use the fit option S\n",
      "Error in <TFitResultPtr>: TFitResult is empty - use the fit option S\n",
      "Error in <TFitResultPtr>: TFitResult is empty - use the fit option S\n",
      "Error in <TFitResultPtr>: TFitResult is empty - use the fit option S\n",
      "Error in <TFitResultPtr>: TFitResult is empty - use the fit option S\n",
      "Error in <TFitResultPtr>: TFitResult is empty - use the fit option S\n"
     ]
    },
    {
     "data": {
      "image/png": "[encoded data removed]",
      "text/plain": [
       "<IPython.core.display.Image object>"
      ]
     },
     "metadata": {},
     "output_type": "display_data"
    }
   ],
   "source": [
    "c6 = ROOT.TCanvas(\"ptresidual\",\"\",900,600)\n",
    "h_MupTRes = ROOT.TH1F(\"h_MupTRes\",\"Muon p_{T} resolution;#Delta p_{T}/p_{T};\",80,-0.2,0.2)\n",
    "for res in pt_res:\n",
    "    h_MupTRes.Fill(res)\n",
    "h_MupTRes.Draw()\n",
    "c6.Draw()\n",
    "h_MupTRes.Fit(\"gaus\")"
   ]
  },
  {
   "cell_type": "code",
   "execution_count": 39,
   "metadata": {},
   "outputs": [
    {
     "data": {
      "text/plain": [
       "<cppyy.gbl.TFitResultPtr object at 0x563244109680>"
      ]
     },
     "execution_count": 39,
     "metadata": {},
     "output_type": "execute_result"
    },
    {
     "name": "stdout",
     "output_type": "stream",
     "text": [
      "****************************************\n",
      "Minimizer is Minuit2 / Migrad\n",
      "Chi2                      =      60.3285\n",
      "NDf                       =           34\n",
      "Edm                       =  9.66841e-09\n",
      "NCalls                    =           72\n",
      "Constant                  =      166.548   +/-   6.29656     \n",
      "Mean                      = -0.000650271   +/-   0.000324527 \n",
      "Sigma                     =    0.0116117   +/-   0.000297317  \t (limited)\n"
     ]
    },
    {
     "name": "stderr",
     "output_type": "stream",
     "text": [
      "Error in <TFitResultPtr>: TFitResult is empty - use the fit option S\n",
      "Error in <TFitResultPtr>: TFitResult is empty - use the fit option S\n",
      "Error in <TFitResultPtr>: TFitResult is empty - use the fit option S\n",
      "Error in <TFitResultPtr>: TFitResult is empty - use the fit option S\n",
      "Error in <TFitResultPtr>: TFitResult is empty - use the fit option S\n",
      "Error in <TFitResultPtr>: TFitResult is empty - use the fit option S\n",
      "Error in <TFitResultPtr>: TFitResult is empty - use the fit option S\n",
      "Error in <TFitResultPtr>: TFitResult is empty - use the fit option S\n",
      "Error in <TFitResultPtr>: TFitResult is empty - use the fit option S\n",
      "Error in <TFitResultPtr>: TFitResult is empty - use the fit option S\n",
      "Error in <TFitResultPtr>: TFitResult is empty - use the fit option S\n",
      "Error in <TFitResultPtr>: TFitResult is empty - use the fit option S\n",
      "Error in <TFitResultPtr>: TFitResult is empty - use the fit option S\n",
      "Error in <TFitResultPtr>: TFitResult is empty - use the fit option S\n",
      "Error in <TFitResultPtr>: TFitResult is empty - use the fit option S\n",
      "Error in <TFitResultPtr>: TFitResult is empty - use the fit option S\n",
      "Error in <TFitResultPtr>: TFitResult is empty - use the fit option S\n",
      "Error in <TFitResultPtr>: TFitResult is empty - use the fit option S\n",
      "Error in <TFitResultPtr>: TFitResult is empty - use the fit option S\n",
      "Error in <TFitResultPtr>: TFitResult is empty - use the fit option S\n",
      "Error in <TFitResultPtr>: TFitResult is empty - use the fit option S\n",
      "Error in <TFitResultPtr>: TFitResult is empty - use the fit option S\n"
     ]
    },
    {
     "data": {
      "image/png": "[encoded data removed]",
      "text/plain": [
       "<IPython.core.display.Image object>"
      ]
     },
     "metadata": {},
     "output_type": "display_data"
    }
   ],
   "source": [
    "c7 = ROOT.TCanvas(\"massresidual\",\"\",900,600)\n",
    "h_MassRes = ROOT.TH1F(\"h_MassRes\",\"Mass Resolution Residual\",80,-0.15,0.15)\n",
    "for res in mass_res:\n",
    "    h_MassRes.Fill(res)\n",
    "h_MassRes.Draw()\n",
    "c7.Draw()\n",
    "h_MassRes.Fit(\"gaus\")"
   ]
  },
  {
   "cell_type": "code",
   "execution_count": 40,
   "metadata": {},
   "outputs": [
    {
     "data": {
      "image/png": "[encoded data removed]",
      "text/plain": [
       "<IPython.core.display.Image object>"
      ]
     },
     "metadata": {},
     "output_type": "display_data"
    }
   ],
   "source": [
    "prof_MuEtavspTRes = ROOT.TProfile(\"prof_MuEtavspTRes\",\";Gen Muon #eta;#Delta p_{T}/p_{T}\",50,-2.4,2.4,0,1,'s')\n",
    "for ptres, eta in zip(pt_res, gen_dimuon_p4.eta):\n",
    "    prof_MuEtavspTRes.Fill(eta, ptres, 1)\n",
    "c8 = ROOT.TCanvas(\"muetavsptres\",\"\",900,600)\n",
    "prof_MuEtavspTRes.Draw()\n",
    "c8.Draw()"
   ]
  },
  {
   "cell_type": "code",
   "execution_count": 41,
   "metadata": {},
   "outputs": [
    {
     "data": {
      "image/png": "[encoded data removed]",
      "text/plain": [
       "<IPython.core.display.Image object>"
      ]
     },
     "metadata": {},
     "output_type": "display_data"
    }
   ],
   "source": [
    "prof_MupTvspTRes = ROOT.TProfile(\"prof_MupTvspTRes\",\";Gen Muon p_{T} [GeV];#Delta p_{T}/p_{T}\",25,20,100,0,1,'s')\n",
    "for ptres, pt in zip(pt_res, gen_dimuon_p4.pt):\n",
    "    prof_MupTvspTRes.Fill(pt, ptres, 1)\n",
    "c9 = ROOT.TCanvas(\"muptvsptres\",\"\",900,600)\n",
    "prof_MupTvspTRes.Draw()\n",
    "c9.Draw()"
   ]
  },
  {
   "cell_type": "markdown",
   "metadata": {},
   "source": [
    "**Questions 3**:\n",
    "* What is the typical 1/pT resolution of a 50 GeV muon measured in the CMS detector?\n",
    "* How does the 1/pT resolution scale with transverse momentum? And with the pseudorapidity?\n",
    "* Why is the mass residual not a perfect Gaussian distribution?\n",
    "* How is the 1/pT resolution related to the invariant mass resolution?"
   ]
  },
  {
   "cell_type": "markdown",
   "metadata": {},
   "source": [
    "# Step 4: Momentum scale corrections"
   ]
  },
  {
   "cell_type": "markdown",
   "metadata": {},
   "source": [
    "As mentioned in the introduction, small biases in the muon momentum measurement can be recovered by applying specific corrections. In CMS we have several algorithms to compute such corrections to the momentum scale and/or resolution. They are documented in this MUO POG [TWiki page](https://twiki.cern.ch/twiki/bin/view/CMS/MuonReferenceScaleResolRun2). In the following, we will demonstrate the use of one of these correction strategies, called _Rochester algorithm_. The details of the algorithm and how it computes the corrections are beyond the goals of this exercise. Suffice it to say that it extracts correction factors by \"forcing\" muons from (mostly) Z&rarr;&mu;&mu; decays to coincide with reference distributions obtained from Monte Carlo generated muons. For more details, check out  [EPJC V72, 10.2194 (2012)](https://link.springer.com/article/10.1140%2Fepjc%2Fs10052-012-2194-8) [arXiv:1208.3710](https://arxiv.org/abs/1208.3710) or the link above.\n"
   ]
  },
  {
   "cell_type": "markdown",
   "metadata": {},
   "source": [
    "We are going to need both ROOT and the correctionlib package to read and apply the corrections. "
   ]
  },
  {
   "cell_type": "code",
   "execution_count": 2,
   "metadata": {},
   "outputs": [],
   "source": [
    "import ROOT\n",
    "import correctionlib"
   ]
  },
  {
   "cell_type": "markdown",
   "metadata": {},
   "source": [
    "The code to apply the correction is written in C++, so we are using pyROOTs ability to run this kind of code. "
   ]
  },
  {
   "cell_type": "code",
   "execution_count": 3,
   "metadata": {
    "scrolled": true
   },
   "outputs": [
    {
     "data": {
      "text/plain": [
       "0"
      ]
     },
     "execution_count": 3,
     "metadata": {},
     "output_type": "execute_result"
    },
    {
     "name": "stderr",
     "output_type": "stream",
     "text": [
      "Warning in <RTaskArenaWrapper>: CPU Bandwith Control Active. Proceeding with 4 threads accordingly\n"
     ]
    }
   ],
   "source": [
    "correctionlib.register_pyroot_binding()\n",
    "\n",
    "ROOT.EnableImplicitMT()\n",
    "\n",
    "ROOT.gROOT.ProcessLine(\n",
    "    'auto cset = correction::CorrectionSet::from_file(\"2022_schemaV2.json\");'\n",
    ")\n",
    "ROOT.gROOT.ProcessLine('#include \"MuonScaRe.cc\"')\n"
   ]
  },
  {
   "cell_type": "code",
   "execution_count": 14,
   "metadata": {
    "scrolled": true
   },
   "outputs": [],
   "source": [
    "random=np.random.rand(len(ak.flatten(muon.eta)))"
   ]
  },
  {
   "cell_type": "code",
   "execution_count": 15,
   "metadata": {
    "scrolled": true
   },
   "outputs": [
    {
     "data": {
      "text/html": [
       "<pre>[[46.8, 44.1],\n",
       " [39.2, 29.4],\n",
       " [30.3, 26.8],\n",
       " [35.3, 32.8],\n",
       " [35.7, 35.7],\n",
       " [22, 20.6],\n",
       " [33.9, 33.5],\n",
       " [44.5, 43.4],\n",
       " [33.1, 32.2],\n",
       " [43.3, 41.8],\n",
       " ...,\n",
       " [34.4, 33.5],\n",
       " [28.7, 23.6],\n",
       " [88.5, 26.3],\n",
       " [51.4, 40.1],\n",
       " [47.4, 32.7],\n",
       " [42.6, 38.5],\n",
       " [44.3, 34.9],\n",
       " [33.2, 31.5],\n",
       " [48.6, 47.4]]\n",
       "--------------------------------------------------------\n",
       "type: 1353 * var * float32[parameters={&quot;__doc__&quot;: &quot;pt&quot;}]</pre>"
      ],
      "text/plain": [
       "<Array [[46.8, 44.1], [...], ..., [48.6, 47.4]] type='1353 * var * float32[...'>"
      ]
     },
     "execution_count": 15,
     "metadata": {},
     "output_type": "execute_result"
    }
   ],
   "source": [
    "two_opposite_good_muons.pt"
   ]
  },
  {
   "cell_type": "code",
   "execution_count": 16,
   "metadata": {
    "scrolled": true
   },
   "outputs": [],
   "source": [
    "rnd=ROOT.TRandom3(1234)"
   ]
  },
  {
   "cell_type": "markdown",
   "metadata": {},
   "source": [
    "Now, write a loop to correct each muon one by one, and then repeat step 2 and 3"
   ]
  },
  {
   "cell_type": "code",
   "execution_count": 17,
   "metadata": {
    "scrolled": true
   },
   "outputs": [
    {
     "ename": "NameError",
     "evalue": "name 'pt_scale' is not defined",
     "output_type": "error",
     "traceback": [
      "\u001b[0;31m---------------------------------------------------------------------------\u001b[0m",
      "\u001b[0;31mNameError\u001b[0m                                 Traceback (most recent call last)",
      "Cell \u001b[0;32mIn[17], line 2\u001b[0m\n\u001b[1;32m      1\u001b[0m scaled_two_opposite_good_muons \u001b[38;5;241m=\u001b[39m two_opposite_good_muons \n\u001b[0;32m----> 2\u001b[0m scaled_two_opposite_good_muons\u001b[38;5;241m.\u001b[39mpt \u001b[38;5;241m=\u001b[39m \u001b[43mpt_scale\u001b[49m(\u001b[38;5;241m1\u001b[39m, scaled_two_opposite_good_muons\u001b[38;5;241m.\u001b[39mpt, scaled_two_opposite_good_muons\u001b[38;5;241m.\u001b[39meta, scaled_two_opposite_good_muons\u001b[38;5;241m.\u001b[39mphi, scaled_two_opposite_good_muons\u001b[38;5;241m.\u001b[39mcharge, \u001b[38;5;124m\"\u001b[39m\u001b[38;5;124mnom\u001b[39m\u001b[38;5;124m\"\u001b[39m)      \n",
      "\u001b[0;31mNameError\u001b[0m: name 'pt_scale' is not defined"
     ]
    }
   ],
   "source": [
    "scaled_two_opposite_good_muons = two_opposite_good_muons \n",
    "scaled_two_opposite_good_muons.pt = pt_scale(1, scaled_two_opposite_good_muons.pt, scaled_two_opposite_good_muons.eta, scaled_two_opposite_good_muons.phi, scaled_two_opposite_good_muons.charge, \"nom\")      "
   ]
  },
  {
   "cell_type": "code",
   "execution_count": null,
   "metadata": {
    "scrolled": true
   },
   "outputs": [],
   "source": [
    "scaled_two_opposite_good_muons=ak.JaggedArray.zip(muon_pt= ak.fromiter(cor_pt), \n",
    "                                                  muon_eta= ak.fromiter(cor_eta),\n",
    "                                                  muon_phi= ak.fromiter(cor_phi),\n",
    "                                                  muon_mass= two_opposite_good_muons.muon_mass,\n",
    "                                                  muon_charge= two_opposite_good_muons.muon_charge,\n",
    "                                                  genpart_pt= two_opposite_good_muons.genpart_pt,\n",
    "                                                  genpart_eta= two_opposite_good_muons.genpart_eta,\n",
    "                                                  genpart_phi= two_opposite_good_muons.genpart_phi,\n",
    "                                                  genpart_mass= two_opposite_good_muons.genpart_mass,)"
   ]
  },
  {
   "cell_type": "code",
   "execution_count": null,
   "metadata": {
    "scrolled": true
   },
   "outputs": [],
   "source": [
    "uncorrected_two_opposite_good_muons= two_opposite_good_muons\n",
    "two_opposite_good_muons=scaled_two_opposite_good_muons"
   ]
  },
  {
   "cell_type": "code",
   "execution_count": null,
   "metadata": {
    "scrolled": true
   },
   "outputs": [],
   "source": [
    "two_muon_p4=uproot_methods.TLorentzVectorArray.from_ptetaphim(two_opposite_good_muons.muon_pt, two_opposite_good_muons.muon_eta,\n",
    "                                                              two_opposite_good_muons.muon_phi, two_opposite_good_muons.muon_mass)"
   ]
  },
  {
   "cell_type": "code",
   "execution_count": null,
   "metadata": {
    "scrolled": true
   },
   "outputs": [],
   "source": [
    "dimuon_p4=two_muon_p4[:,0]+two_muon_p4[:,1]\n",
    "#dimuon_p4.mass"
   ]
  },
  {
   "cell_type": "code",
   "execution_count": null,
   "metadata": {
    "scrolled": true
   },
   "outputs": [],
   "source": [
    "dimuon_mass_mask=(dimuon_p4.mass>70)&(dimuon_p4.mass<110)"
   ]
  },
  {
   "cell_type": "code",
   "execution_count": null,
   "metadata": {
    "scrolled": true
   },
   "outputs": [],
   "source": [
    "plt.figure(figsize=(9,6))\n",
    "plt.hist(dimuon_p4.mass[dimuon_mass_mask], bins=100, range=[40,140], histtype='step',linewidth=2, color='blue', label='dimuon invariant mass')\n",
    "plt.title('Dimuon Invariant Mass distribution')\n",
    "plt.xlabel('dimuon invariant mass [GeV]')\n",
    "plt.ylabel('Events')"
   ]
  },
  {
   "cell_type": "markdown",
   "metadata": {},
   "source": [
    "Now lets get their corresponding genpart and gen dimuon mass."
   ]
  },
  {
   "cell_type": "code",
   "execution_count": null,
   "metadata": {
    "scrolled": true
   },
   "outputs": [],
   "source": [
    "two_gen_muon_p4=uproot_methods.TLorentzVectorArray.from_ptetaphim(two_opposite_good_muons.genpart_pt, two_opposite_good_muons.genpart_eta,\n",
    "                                                                  two_opposite_good_muons.genpart_phi, two_opposite_good_muons.genpart_mass)"
   ]
  },
  {
   "cell_type": "code",
   "execution_count": null,
   "metadata": {
    "scrolled": true
   },
   "outputs": [],
   "source": [
    "gen_dimuon_p4=two_gen_muon_p4[:,0]+two_gen_muon_p4[:,1]"
   ]
  },
  {
   "cell_type": "code",
   "execution_count": null,
   "metadata": {
    "scrolled": true
   },
   "outputs": [],
   "source": [
    "gen_dimuon_p4.mass"
   ]
  },
  {
   "cell_type": "code",
   "execution_count": null,
   "metadata": {
    "scrolled": true
   },
   "outputs": [],
   "source": [
    "plt.figure(figsize=(9,6))\n",
    "plt.hist(gen_dimuon_p4.mass, bins=100, range=[40,140], histtype='step', linewidth=2, color='blue', label='gen dimuon_mass')\n",
    "#plt.legend()\n",
    "plt.title('Gen-level Dimuon Invariant Mass distribution')\n",
    "plt.xlabel('gen dimuon mass [GeV]')\n",
    "plt.ylabel('Events')"
   ]
  },
  {
   "cell_type": "code",
   "execution_count": null,
   "metadata": {
    "scrolled": true
   },
   "outputs": [],
   "source": [
    "c10 = ROOT.TCanvas(\"gendimuonmass\",\"\",900,600)\n",
    "h_GenDiMuonM = ROOT.TH1F(\"h_GenDiMuonM\",\";m_{#mu^{+}#mu^{-}};\",80,70,110)\n",
    "for m in gen_dimuon_p4.mass:\n",
    "    h_GenDiMuonM.Fill(m)\n",
    "h_GenDiMuonM.Draw()\n",
    "c10.Draw()\n",
    "f2 = ROOT.TF1(\"f2\", \"[0]*TMath::BreitWigner(x, [1], [2])\", 86., 96.)\n",
    "f2.SetParameter(1, 91.1876)\n",
    "f2.SetParameter(2, 2.4952)\n",
    "h_GenDiMuonM.Fit(\"f2\", \"\", \"\", 86., 96.)\n",
    "ROOT.gStyle.SetOptFit(1111)\n",
    "c10.Draw()"
   ]
  },
  {
   "cell_type": "code",
   "execution_count": null,
   "metadata": {},
   "outputs": [],
   "source": [
    "c11 = ROOT.TCanvas(\"recdimuonmass\",\"\",900,600)\n",
    "h_RecDiMuonM = ROOT.TH1F(\"h_RecDiMuonM\",\";m_{#mu^{+}#mu^{-}};\",80,70,110)\n",
    "for m in dimuon_p4.mass:\n",
    "    h_RecDiMuonM.Fill(m)\n",
    "h_RecDiMuonM.Draw()\n",
    "c11.Draw()\n",
    "f1 = ROOT.TF1(\"f1\", \"[0]*TMath::Voigt(x-[1], [2], [3])\", 86., 96.)\n",
    "f1.SetParameter(1, 91.1876)\n",
    "f1.SetParameter(3, 2.4952)\n",
    "h_RecDiMuonM.Fit(\"f1\", \"\", \"\", 86., 96.)\n",
    "ROOT.gStyle.SetOptFit(1111)\n",
    "c11.Draw()\n",
    "#h_RecDiMuonM.Fit(\"gaus\",\"\",\"\", 86., 96.)"
   ]
  },
  {
   "cell_type": "code",
   "execution_count": null,
   "metadata": {
    "scrolled": true
   },
   "outputs": [],
   "source": [
    "prof_MuPlusPhiVsDiMuonM=ROOT.TProfile(\"prof_MuPlusPhivsDiMuonM\",\"#mu^{+} #phi vs m_{#mu^{+}#mu^{-}};Reco muon(+) #phi[rad]; Z peak position [GeV/c^2]\",16,-3.14,3.14,88,93)"
   ]
  },
  {
   "cell_type": "code",
   "execution_count": null,
   "metadata": {
    "scrolled": true
   },
   "outputs": [],
   "source": [
    "mup_phi=two_opposite_good_muons.muon_phi[two_opposite_good_muons.muon_charge>0].flatten()"
   ]
  },
  {
   "cell_type": "code",
   "execution_count": null,
   "metadata": {
    "scrolled": true
   },
   "outputs": [],
   "source": [
    "for phi, m in zip(mup_phi[dimuon_mass_mask], (dimuon_p4.mass)[dimuon_mass_mask]):\n",
    "   prof_MuPlusPhiVsDiMuonM.Fill(phi, m, 1)"
   ]
  },
  {
   "cell_type": "code",
   "execution_count": null,
   "metadata": {
    "scrolled": true
   },
   "outputs": [],
   "source": [
    "c12 = ROOT.TCanvas(\"mupphidimum\",\"\",900,600)\n",
    "prof_MuPlusPhiVsDiMuonM.Draw()"
   ]
  },
  {
   "cell_type": "code",
   "execution_count": null,
   "metadata": {
    "scrolled": true
   },
   "outputs": [],
   "source": [
    "c12.Draw()"
   ]
  },
  {
   "cell_type": "code",
   "execution_count": null,
   "metadata": {
    "scrolled": true
   },
   "outputs": [],
   "source": [
    "mum_phi=two_opposite_good_muons.muon_phi[two_opposite_good_muons.muon_charge<0].flatten()\n",
    "prof_MuMinusPhivsDiMuonM = ROOT.TProfile(\"prof_MuMinusPhivsDiMuonM\",\"#mu^{-} #phi vs m_{#mu^{+}#mu^{-}};Reco muon(-) #phi[rad];Z peak position [GeV/c^2]\",16,-3.14,3.14,88,93)"
   ]
  },
  {
   "cell_type": "code",
   "execution_count": null,
   "metadata": {
    "scrolled": true
   },
   "outputs": [],
   "source": [
    "for phi, m in zip(mum_phi[dimuon_mass_mask], (dimuon_p4.mass)[dimuon_mass_mask]):\n",
    "   prof_MuMinusPhivsDiMuonM.Fill(phi, m, 1)"
   ]
  },
  {
   "cell_type": "code",
   "execution_count": null,
   "metadata": {
    "scrolled": true
   },
   "outputs": [],
   "source": [
    "c13 = ROOT.TCanvas(\"mumphidimum\",\"\",900,600)\n",
    "prof_MuMinusPhivsDiMuonM.Draw()\n",
    "c13.Draw()"
   ]
  },
  {
   "cell_type": "code",
   "execution_count": null,
   "metadata": {
    "scrolled": true
   },
   "outputs": [],
   "source": [
    "prof_MuEtavsDiMuonM = ROOT.TProfile(\"prof_MuEtavsDiMuonM\",\"Muon #eta vs m_{#mu^{+}#mu^{-}};Reco Muon #eta; Z peak position [GeV/c^2]\",50,-2.4,2.4,88,93)"
   ]
  },
  {
   "cell_type": "code",
   "execution_count": null,
   "metadata": {
    "scrolled": true
   },
   "outputs": [],
   "source": [
    "for eta1, eta2, m in zip(two_opposite_good_muons[dimuon_mass_mask].muon_eta[:,0],\n",
    "                         two_opposite_good_muons[dimuon_mass_mask].muon_eta[:,0],\n",
    "                         dimuon_p4.mass[dimuon_mass_mask]):\n",
    "    prof_MuEtavsDiMuonM.Fill(eta1, m, 1)\n",
    "    prof_MuEtavsDiMuonM.Fill(eta2, m, 1)\n",
    "    "
   ]
  },
  {
   "cell_type": "code",
   "execution_count": null,
   "metadata": {
    "scrolled": true
   },
   "outputs": [],
   "source": [
    "c14 = ROOT.TCanvas(\"muetadimum\",\"\",900,600)\n",
    "prof_MuEtavsDiMuonM.Draw()\n",
    "c14.Draw()"
   ]
  },
  {
   "cell_type": "code",
   "execution_count": null,
   "metadata": {},
   "outputs": [],
   "source": [
    "pt_res=two_opposite_good_muons.genpart_pt.flatten()/two_opposite_good_muons.muon_pt.flatten()-1\n",
    "plt.figure(figsize=(9,6))\n",
    "plt.hist(pt_res, bins=100, range=[-0.25,0.25], histtype='step',linewidth=2, color='blue', label='$1/p_T$ residual')\n",
    "#plt.legend()\n",
    "plt.title('Distribution of $1/p_T$ residual')\n",
    "plt.xlabel('$1/p_T$ residual')\n",
    "plt.ylabel('Events')"
   ]
  },
  {
   "cell_type": "code",
   "execution_count": null,
   "metadata": {
    "scrolled": true
   },
   "outputs": [],
   "source": [
    "mass_res=dimuon_p4.mass.flatten()/gen_dimuon_p4.mass.flatten()-1"
   ]
  },
  {
   "cell_type": "code",
   "execution_count": null,
   "metadata": {},
   "outputs": [],
   "source": [
    "plt.figure(figsize=(9,6))\n",
    "plt.hist(mass_res, bins=100, range=[-0.25,0.25], histtype='step', linewidth=2, color='blue', label='mass_residual')\n",
    "#plt.legend()\n",
    "plt.title('Mass residual')\n",
    "plt.xlabel('mass_residual')\n",
    "plt.ylabel('Events')"
   ]
  },
  {
   "cell_type": "code",
   "execution_count": null,
   "metadata": {},
   "outputs": [],
   "source": [
    "c16 = ROOT.TCanvas(\"ptresidual\",\"\",900,600)\n",
    "h_MupTRes = ROOT.TH1F(\"h_MupTRes\",\"Muon p_{T} resolution;#Delta p_{T}/p_{T};\",80,-0.2,0.2)\n",
    "for res in pt_res:\n",
    "    h_MupTRes.Fill(res)\n",
    "h_MupTRes.Draw()\n",
    "c16.Draw()\n",
    "h_MupTRes.Fit(\"gaus\")"
   ]
  },
  {
   "cell_type": "code",
   "execution_count": null,
   "metadata": {},
   "outputs": [],
   "source": [
    "c17 = ROOT.TCanvas(\"massresidual\",\"\",900,600)\n",
    "h_MassRes = ROOT.TH1F(\"h_MassRes\",\"Mass Resolution Residual\",80,-0.15,0.15)\n",
    "for res in mass_res:\n",
    "    h_MassRes.Fill(res)\n",
    "h_MassRes.Draw()\n",
    "c17.Draw()\n",
    "h_MassRes.Fit(\"gaus\")"
   ]
  },
  {
   "cell_type": "code",
   "execution_count": null,
   "metadata": {},
   "outputs": [],
   "source": [
    "prof_MuEtavspTRes = ROOT.TProfile(\"prof_MuEtavspTRes\",\";Gen Muon #eta;#Delta p_{T}/p_{T}\",50,-2.4,2.4,0,1,'s')\n",
    "for ptres, eta in zip(pt_res, two_gen_muon_p4.eta.flatten()):\n",
    "    prof_MuEtavspTRes.Fill(eta, ptres, 1)\n",
    "c18 = ROOT.TCanvas(\"muetavsptres\",\"\",900,600)\n",
    "prof_MuEtavspTRes.Draw()\n",
    "c18.Draw()"
   ]
  },
  {
   "cell_type": "code",
   "execution_count": null,
   "metadata": {},
   "outputs": [],
   "source": [
    "prof_MupTvspTRes = ROOT.TProfile(\"prof_MupTvspTRes\",\";Gen Muon p_{T} [GeV];#Delta p_{T}/p_{T}\",25,20,100,0,1,'s')\n",
    "for ptres, pt in zip(pt_res, two_gen_muon_p4.pt.flatten()):\n",
    "    prof_MupTvspTRes.Fill(pt, ptres, 1)\n",
    "c19 = ROOT.TCanvas(\"muptvsptres\",\"\",900,600)\n",
    "prof_MupTvspTRes.Draw()\n",
    "c19.Draw()"
   ]
  },
  {
   "cell_type": "markdown",
   "metadata": {
    "scrolled": false
   },
   "source": [
    "**Questions 4:**\n",
    "   * Describe the main differences that you observe between the uncorrected and corrected distributions. \n",
    "   * Does the corrected mass spectrum get closer to the generated mass spectrum, and the peak closer to the PDG value? \n",
    "   * Do the corrections help restore a flat distribution of the dimuon mass _vs_ &phi; and &eta;? \n",
    "   * How did the resolution change after the corrections? How would you explain it? "
   ]
  },
  {
   "cell_type": "code",
   "execution_count": null,
   "metadata": {},
   "outputs": [],
   "source": []
  }
 ],
 "metadata": {
  "kernelspec": {
   "display_name": "HATS 2024",
   "language": "python",
   "name": "hats2024"
  },
  "language_info": {
   "codemirror_mode": {
    "name": "ipython",
    "version": 3
   },
   "file_extension": ".py",
   "mimetype": "text/x-python",
   "name": "python",
   "nbconvert_exporter": "python",
   "pygments_lexer": "ipython3",
   "version": "3.12.4"
  }
 },
 "nbformat": 4,
 "nbformat_minor": 4
}
