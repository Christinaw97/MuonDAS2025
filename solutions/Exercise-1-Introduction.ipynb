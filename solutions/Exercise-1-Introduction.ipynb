{
 "cells": [
  {
   "cell_type": "markdown",
   "metadata": {},
   "source": [
    "# Step1 Getting familiar with the muon objects and nanoaod\n",
    "In this exercise we will get familiar with the muon objects in an [nanoAOD](https://twiki.cern.ch/twiki/bin/view/CMSPublic/WorkBookNanoAOD) file. We will mostly use the following file, containing simulated Drell–Yan dimuon events generated at NLO.<br>\n",
    "* DYJetsToMuMu_M-50_TuneCP5_13TeV-madgraphMLM-pythia8.root\n",
    "\n",
    "Further information and a list of those variables stored in nanoAOD can be found [here](https://cms-nanoaod-integration.web.cern.ch/integration/master-106X/mc102X_doc.html).<br>\n",
    "In nanoAOD, data are stored as arrays. \n",
    "[Uproot](https://github.com/scikit-hep/uproot#exploring-a-file) will be used to explore the nanoAOD file.\n"
   ]
  },
  {
   "cell_type": "markdown",
   "metadata": {},
   "source": [
    "Not importing? Don't forget to select the correct kernel"
   ]
  },
  {
   "cell_type": "code",
   "execution_count": 2,
   "metadata": {},
   "outputs": [],
   "source": [
    "import uproot\n",
    "import matplotlib.pyplot as plt\n",
    "import numpy as np\n",
    "import awkward as ak\n",
    "from math import pi"
   ]
  },
  {
   "cell_type": "markdown",
   "metadata": {},
   "source": [
    "First, lets take a look of the variables stored in NanoAOD. Uproot.open( ) return a ROOTDirectory similar to a python dictionary. Function key( ) prints all the dicinory keywords. The b' ahead of the names is due to ROOT object names having no encoding."
   ]
  },
  {
   "cell_type": "code",
   "execution_count": 5,
   "metadata": {},
   "outputs": [],
   "source": [
    "events=uproot.open('/eos/uscms/store/user/cmsdas/2025/short_exercises/muons/DYtoMuMu.root')['Events']"
   ]
  },
  {
   "cell_type": "code",
   "execution_count": 6,
   "metadata": {},
   "outputs": [
    {
     "data": {
      "text/plain": [
       "['run',\n",
       " 'luminosityBlock',\n",
       " 'event',\n",
       " 'bunchCrossing',\n",
       " 'HTXS_njets25',\n",
       " 'HTXS_njets30',\n",
       " 'HTXS_stage1_1_cat_pTjet25GeV',\n",
       " 'HTXS_stage1_1_cat_pTjet30GeV',\n",
       " 'HTXS_stage1_1_fine_cat_pTjet25GeV',\n",
       " 'HTXS_stage1_1_fine_cat_pTjet30GeV',\n",
       " 'HTXS_stage1_2_cat_pTjet25GeV',\n",
       " 'HTXS_stage1_2_cat_pTjet30GeV',\n",
       " 'HTXS_stage1_2_fine_cat_pTjet25GeV',\n",
       " 'HTXS_stage1_2_fine_cat_pTjet30GeV',\n",
       " 'HTXS_stage_0',\n",
       " 'HTXS_stage_1_pTjet25',\n",
       " 'HTXS_stage_1_pTjet30',\n",
       " 'HTXS_Higgs_pt',\n",
       " 'HTXS_Higgs_y',\n",
       " 'BeamSpot_type',\n",
       " 'BeamSpot_sigmaZ',\n",
       " 'BeamSpot_sigmaZError',\n",
       " 'BeamSpot_z',\n",
       " 'BeamSpot_zError',\n",
       " 'nboostedTau',\n",
       " 'boostedTau_idAntiEle2018',\n",
       " 'boostedTau_idAntiMu',\n",
       " 'boostedTau_idMVAnewDM2017v2',\n",
       " 'boostedTau_idMVAoldDM2017v2',\n",
       " 'boostedTau_jetIdx',\n",
       " 'boostedTau_rawAntiEleCat2018',\n",
       " 'boostedTau_charge',\n",
       " 'boostedTau_decayMode',\n",
       " 'boostedTau_chargedIso',\n",
       " 'boostedTau_eta',\n",
       " 'boostedTau_leadTkDeltaEta',\n",
       " 'boostedTau_leadTkDeltaPhi',\n",
       " 'boostedTau_leadTkPtOverTauPt',\n",
       " 'boostedTau_mass',\n",
       " 'boostedTau_neutralIso',\n",
       " 'boostedTau_phi',\n",
       " 'boostedTau_photonsOutsideSignalCone',\n",
       " 'boostedTau_pt',\n",
       " 'boostedTau_puCorr',\n",
       " 'boostedTau_rawAntiEle2018',\n",
       " 'boostedTau_rawIso',\n",
       " 'boostedTau_rawIsodR03',\n",
       " 'boostedTau_rawMVAnewDM2017v2',\n",
       " 'boostedTau_rawMVAoldDM2017v2',\n",
       " 'CaloMET_phi',\n",
       " 'CaloMET_pt',\n",
       " 'CaloMET_sumEt',\n",
       " 'ChsMET_phi',\n",
       " 'ChsMET_pt',\n",
       " 'ChsMET_sumEt',\n",
       " 'nCorrT1METJet',\n",
       " 'CorrT1METJet_area',\n",
       " 'CorrT1METJet_eta',\n",
       " 'CorrT1METJet_muonSubtrFactor',\n",
       " 'CorrT1METJet_phi',\n",
       " 'CorrT1METJet_rawPt',\n",
       " 'DeepMETResolutionTune_phi',\n",
       " 'DeepMETResolutionTune_pt',\n",
       " 'DeepMETResponseTune_phi',\n",
       " 'DeepMETResponseTune_pt',\n",
       " 'nElectron',\n",
       " 'Electron_seediEtaOriX',\n",
       " 'Electron_convVeto',\n",
       " 'Electron_cutBased',\n",
       " 'Electron_cutBased_HEEP',\n",
       " 'Electron_isPFcand',\n",
       " 'Electron_jetNDauCharged',\n",
       " 'Electron_lostHits',\n",
       " 'Electron_mvaIso_WP80',\n",
       " 'Electron_mvaIso_WP90',\n",
       " 'Electron_mvaNoIso_WP80',\n",
       " 'Electron_mvaNoIso_WP90',\n",
       " 'Electron_seedGain',\n",
       " 'Electron_tightCharge',\n",
       " 'Electron_jetIdx',\n",
       " 'Electron_photonIdx',\n",
       " 'Electron_svIdx',\n",
       " 'Electron_fsrPhotonIdx',\n",
       " 'Electron_charge',\n",
       " 'Electron_pdgId',\n",
       " 'Electron_seediPhiOriY',\n",
       " 'Electron_vidNestedWPBitmap',\n",
       " 'Electron_vidNestedWPBitmapHEEP',\n",
       " 'Electron_deltaEtaSC',\n",
       " 'Electron_dr03EcalRecHitSumEt',\n",
       " 'Electron_dr03HcalDepth1TowerSumEt',\n",
       " 'Electron_dr03TkSumPt',\n",
       " 'Electron_dr03TkSumPtHEEP',\n",
       " 'Electron_dxy',\n",
       " 'Electron_dxyErr',\n",
       " 'Electron_dz',\n",
       " 'Electron_dzErr',\n",
       " 'Electron_eInvMinusPInv',\n",
       " 'Electron_energyErr',\n",
       " 'Electron_eta',\n",
       " 'Electron_hoe',\n",
       " 'Electron_ip3d',\n",
       " 'Electron_jetPtRelv2',\n",
       " 'Electron_jetRelIso',\n",
       " 'Electron_mass',\n",
       " 'Electron_miniPFRelIso_all',\n",
       " 'Electron_miniPFRelIso_chg',\n",
       " 'Electron_mvaHZZIso',\n",
       " 'Electron_mvaIso',\n",
       " 'Electron_mvaNoIso',\n",
       " 'Electron_pfRelIso03_all',\n",
       " 'Electron_pfRelIso03_chg',\n",
       " 'Electron_phi',\n",
       " 'Electron_pt',\n",
       " 'Electron_r9',\n",
       " 'Electron_scEtOverPt',\n",
       " 'Electron_sieie',\n",
       " 'Electron_sip3d',\n",
       " 'Electron_mvaTTH',\n",
       " 'nFatJet',\n",
       " 'FatJet_jetId',\n",
       " 'FatJet_nConstituents',\n",
       " 'FatJet_subJetIdx1',\n",
       " 'FatJet_subJetIdx2',\n",
       " 'FatJet_electronIdx3SJ',\n",
       " 'FatJet_muonIdx3SJ',\n",
       " 'FatJet_area',\n",
       " 'FatJet_btagDDBvLV2',\n",
       " 'FatJet_btagDDCvBV2',\n",
       " 'FatJet_btagDDCvLV2',\n",
       " 'FatJet_btagDeepB',\n",
       " 'FatJet_btagHbb',\n",
       " 'FatJet_eta',\n",
       " 'FatJet_mass',\n",
       " 'FatJet_msoftdrop',\n",
       " 'FatJet_n2b1',\n",
       " 'FatJet_n3b1',\n",
       " 'FatJet_particleNetWithMass_H4qvsQCD',\n",
       " 'FatJet_particleNetWithMass_HbbvsQCD',\n",
       " 'FatJet_particleNetWithMass_HccvsQCD',\n",
       " 'FatJet_particleNetWithMass_QCD',\n",
       " 'FatJet_particleNetWithMass_TvsQCD',\n",
       " 'FatJet_particleNetWithMass_WvsQCD',\n",
       " 'FatJet_particleNetWithMass_ZvsQCD',\n",
       " 'FatJet_particleNet_QCD',\n",
       " 'FatJet_particleNet_QCD0HF',\n",
       " 'FatJet_particleNet_QCD1HF',\n",
       " 'FatJet_particleNet_QCD2HF',\n",
       " 'FatJet_particleNet_XbbVsQCD',\n",
       " 'FatJet_particleNet_XccVsQCD',\n",
       " 'FatJet_particleNet_XggVsQCD',\n",
       " 'FatJet_particleNet_XqqVsQCD',\n",
       " 'FatJet_particleNet_XteVsQCD',\n",
       " 'FatJet_particleNet_XtmVsQCD',\n",
       " 'FatJet_particleNet_XttVsQCD',\n",
       " 'FatJet_particleNet_massCorr',\n",
       " 'FatJet_phi',\n",
       " 'FatJet_pt',\n",
       " 'FatJet_rawFactor',\n",
       " 'FatJet_tau1',\n",
       " 'FatJet_tau2',\n",
       " 'FatJet_tau3',\n",
       " 'FatJet_tau4',\n",
       " 'FatJet_lsf3',\n",
       " 'nFsrPhoton',\n",
       " 'FsrPhoton_electronIdx',\n",
       " 'FsrPhoton_muonIdx',\n",
       " 'FsrPhoton_dROverEt2',\n",
       " 'FsrPhoton_eta',\n",
       " 'FsrPhoton_phi',\n",
       " 'FsrPhoton_pt',\n",
       " 'FsrPhoton_relIso03',\n",
       " 'nGenJetAK8',\n",
       " 'GenJetAK8_eta',\n",
       " 'GenJetAK8_mass',\n",
       " 'GenJetAK8_phi',\n",
       " 'GenJetAK8_pt',\n",
       " 'nGenJet',\n",
       " 'GenJet_eta',\n",
       " 'GenJet_mass',\n",
       " 'GenJet_phi',\n",
       " 'GenJet_pt',\n",
       " 'nGenPart',\n",
       " 'GenPart_genPartIdxMother',\n",
       " 'GenPart_statusFlags',\n",
       " 'GenPart_pdgId',\n",
       " 'GenPart_status',\n",
       " 'GenPart_eta',\n",
       " 'GenPart_mass',\n",
       " 'GenPart_phi',\n",
       " 'GenPart_pt',\n",
       " 'nGenProton',\n",
       " 'GenProton_isPU',\n",
       " 'GenProton_px',\n",
       " 'GenProton_py',\n",
       " 'GenProton_pz',\n",
       " 'GenProton_vz',\n",
       " 'nSubGenJetAK8',\n",
       " 'SubGenJetAK8_eta',\n",
       " 'SubGenJetAK8_mass',\n",
       " 'SubGenJetAK8_phi',\n",
       " 'SubGenJetAK8_pt',\n",
       " 'Generator_id1',\n",
       " 'Generator_id2',\n",
       " 'Generator_binvar',\n",
       " 'Generator_scalePDF',\n",
       " 'Generator_weight',\n",
       " 'Generator_x1',\n",
       " 'Generator_x2',\n",
       " 'Generator_xpdf1',\n",
       " 'Generator_xpdf2',\n",
       " 'GenVtx_x',\n",
       " 'GenVtx_y',\n",
       " 'GenVtx_z',\n",
       " 'nGenVisTau',\n",
       " 'GenVisTau_status',\n",
       " 'GenVisTau_charge',\n",
       " 'GenVisTau_genPartIdxMother',\n",
       " 'GenVisTau_eta',\n",
       " 'GenVisTau_mass',\n",
       " 'GenVisTau_phi',\n",
       " 'GenVisTau_pt',\n",
       " 'genWeight',\n",
       " 'LHEWeight_originalXWGTUP',\n",
       " 'nLHEPdfWeight',\n",
       " 'LHEPdfWeight',\n",
       " 'nLHEReweightingWeight',\n",
       " 'LHEReweightingWeight',\n",
       " 'nLHEScaleWeight',\n",
       " 'LHEScaleWeight',\n",
       " 'nPSWeight',\n",
       " 'PSWeight',\n",
       " 'nIsoTrack',\n",
       " 'IsoTrack_isHighPurityTrack',\n",
       " 'IsoTrack_isPFcand',\n",
       " 'IsoTrack_isFromLostTrack',\n",
       " 'IsoTrack_charge',\n",
       " 'IsoTrack_fromPV',\n",
       " 'IsoTrack_pdgId',\n",
       " 'IsoTrack_dxy',\n",
       " 'IsoTrack_dz',\n",
       " 'IsoTrack_eta',\n",
       " 'IsoTrack_pfRelIso03_all',\n",
       " 'IsoTrack_pfRelIso03_chg',\n",
       " 'IsoTrack_phi',\n",
       " 'IsoTrack_pt',\n",
       " 'IsoTrack_miniPFRelIso_all',\n",
       " 'IsoTrack_miniPFRelIso_chg',\n",
       " 'nJet',\n",
       " 'Jet_jetId',\n",
       " 'Jet_nConstituents',\n",
       " 'Jet_nElectrons',\n",
       " 'Jet_nMuons',\n",
       " 'Jet_nSVs',\n",
       " 'Jet_electronIdx1',\n",
       " 'Jet_electronIdx2',\n",
       " 'Jet_muonIdx1',\n",
       " 'Jet_muonIdx2',\n",
       " 'Jet_svIdx1',\n",
       " 'Jet_svIdx2',\n",
       " 'Jet_hfadjacentEtaStripsSize',\n",
       " 'Jet_hfcentralEtaStripSize',\n",
       " 'Jet_PNetRegPtRawCorr',\n",
       " 'Jet_PNetRegPtRawCorrNeutrino',\n",
       " 'Jet_PNetRegPtRawRes',\n",
       " 'Jet_area',\n",
       " 'Jet_btagDeepFlavB',\n",
       " 'Jet_btagDeepFlavCvB',\n",
       " 'Jet_btagDeepFlavCvL',\n",
       " 'Jet_btagDeepFlavQG',\n",
       " 'Jet_btagPNetB',\n",
       " 'Jet_btagPNetCvB',\n",
       " 'Jet_btagPNetCvL',\n",
       " 'Jet_btagPNetQvG',\n",
       " 'Jet_btagPNetTauVJet',\n",
       " 'Jet_btagRobustParTAK4B',\n",
       " 'Jet_btagRobustParTAK4CvB',\n",
       " 'Jet_btagRobustParTAK4CvL',\n",
       " 'Jet_btagRobustParTAK4QG',\n",
       " 'Jet_chEmEF',\n",
       " 'Jet_chHEF',\n",
       " 'Jet_eta',\n",
       " 'Jet_hfsigmaEtaEta',\n",
       " 'Jet_hfsigmaPhiPhi',\n",
       " 'Jet_mass',\n",
       " 'Jet_muEF',\n",
       " 'Jet_muonSubtrFactor',\n",
       " 'Jet_neEmEF',\n",
       " 'Jet_neHEF',\n",
       " 'Jet_phi',\n",
       " 'Jet_pt',\n",
       " 'Jet_rawFactor',\n",
       " 'LHE_Njets',\n",
       " 'LHE_Nb',\n",
       " 'LHE_Nc',\n",
       " 'LHE_Nuds',\n",
       " 'LHE_Nglu',\n",
       " 'LHE_NpNLO',\n",
       " 'LHE_NpLO',\n",
       " 'LHE_HT',\n",
       " 'LHE_HTIncoming',\n",
       " 'LHE_Vpt',\n",
       " 'LHE_AlphaS',\n",
       " 'nLHEPart',\n",
       " 'LHEPart_pdgId',\n",
       " 'LHEPart_status',\n",
       " 'LHEPart_spin',\n",
       " 'LHEPart_pt',\n",
       " 'LHEPart_eta',\n",
       " 'LHEPart_phi',\n",
       " 'LHEPart_mass',\n",
       " 'LHEPart_incomingpz',\n",
       " 'nLowPtElectron',\n",
       " 'LowPtElectron_convVeto',\n",
       " 'LowPtElectron_convWP',\n",
       " 'LowPtElectron_lostHits',\n",
       " 'LowPtElectron_electronIdx',\n",
       " 'LowPtElectron_photonIdx',\n",
       " 'LowPtElectron_charge',\n",
       " 'LowPtElectron_pdgId',\n",
       " 'LowPtElectron_ID',\n",
       " 'LowPtElectron_convVtxRadius',\n",
       " 'LowPtElectron_deltaEtaSC',\n",
       " 'LowPtElectron_dxy',\n",
       " 'LowPtElectron_dxyErr',\n",
       " 'LowPtElectron_dz',\n",
       " 'LowPtElectron_dzErr',\n",
       " 'LowPtElectron_eInvMinusPInv',\n",
       " 'LowPtElectron_energyErr',\n",
       " 'LowPtElectron_eta',\n",
       " 'LowPtElectron_hoe',\n",
       " 'LowPtElectron_mass',\n",
       " 'LowPtElectron_miniPFRelIso_all',\n",
       " 'LowPtElectron_miniPFRelIso_chg',\n",
       " 'LowPtElectron_phi',\n",
       " 'LowPtElectron_pt',\n",
       " 'LowPtElectron_ptbiased',\n",
       " 'LowPtElectron_r9',\n",
       " 'LowPtElectron_scEtOverPt',\n",
       " 'LowPtElectron_sieie',\n",
       " 'LowPtElectron_unbiased',\n",
       " 'GenMET_phi',\n",
       " 'GenMET_pt',\n",
       " 'MET_MetUnclustEnUpDeltaX',\n",
       " 'MET_MetUnclustEnUpDeltaY',\n",
       " 'MET_covXX',\n",
       " 'MET_covXY',\n",
       " 'MET_covYY',\n",
       " 'MET_phi',\n",
       " 'MET_pt',\n",
       " 'MET_significance',\n",
       " 'MET_sumEt',\n",
       " 'MET_sumPtUnclustered',\n",
       " 'nMuon',\n",
       " 'Muon_highPtId',\n",
       " 'Muon_highPurity',\n",
       " 'Muon_inTimeMuon',\n",
       " 'Muon_isGlobal',\n",
       " 'Muon_isPFcand',\n",
       " 'Muon_isStandalone',\n",
       " 'Muon_isTracker',\n",
       " 'Muon_jetNDauCharged',\n",
       " 'Muon_looseId',\n",
       " 'Muon_mediumId',\n",
       " 'Muon_mediumPromptId',\n",
       " 'Muon_miniIsoId',\n",
       " 'Muon_multiIsoId',\n",
       " 'Muon_mvaMuID_WP',\n",
       " 'Muon_nStations',\n",
       " 'Muon_nTrackerLayers',\n",
       " 'Muon_pfIsoId',\n",
       " 'Muon_puppiIsoId',\n",
       " 'Muon_softId',\n",
       " 'Muon_softMvaId',\n",
       " 'Muon_tightCharge',\n",
       " 'Muon_tightId',\n",
       " 'Muon_tkIsoId',\n",
       " 'Muon_triggerIdLoose',\n",
       " 'Muon_jetIdx',\n",
       " 'Muon_svIdx',\n",
       " 'Muon_fsrPhotonIdx',\n",
       " 'Muon_charge',\n",
       " 'Muon_pdgId',\n",
       " 'Muon_dxy',\n",
       " 'Muon_dxyErr',\n",
       " 'Muon_dxybs',\n",
       " 'Muon_dz',\n",
       " 'Muon_dzErr',\n",
       " 'Muon_eta',\n",
       " 'Muon_ip3d',\n",
       " 'Muon_jetPtRelv2',\n",
       " 'Muon_jetRelIso',\n",
       " 'Muon_mass',\n",
       " 'Muon_miniPFRelIso_all',\n",
       " 'Muon_miniPFRelIso_chg',\n",
       " 'Muon_mvaMuID',\n",
       " 'Muon_pfRelIso03_all',\n",
       " 'Muon_pfRelIso03_chg',\n",
       " 'Muon_pfRelIso04_all',\n",
       " 'Muon_phi',\n",
       " 'Muon_pt',\n",
       " 'Muon_ptErr',\n",
       " 'Muon_segmentComp',\n",
       " 'Muon_sip3d',\n",
       " 'Muon_softMva',\n",
       " 'Muon_tkRelIso',\n",
       " 'Muon_tunepRelPt',\n",
       " 'Muon_bsConstrainedChi2',\n",
       " 'Muon_bsConstrainedPt',\n",
       " 'Muon_bsConstrainedPtErr',\n",
       " 'Muon_mvaLowPt',\n",
       " 'Muon_mvaTTH',\n",
       " 'nPhoton',\n",
       " 'Photon_seediEtaOriX',\n",
       " 'Photon_cutBased',\n",
       " 'Photon_electronVeto',\n",
       " 'Photon_hasConversionTracks',\n",
       " 'Photon_isScEtaEB',\n",
       " 'Photon_isScEtaEE',\n",
       " 'Photon_mvaID_WP80',\n",
       " 'Photon_mvaID_WP90',\n",
       " 'Photon_pixelSeed',\n",
       " 'Photon_seedGain',\n",
       " 'Photon_electronIdx',\n",
       " 'Photon_jetIdx',\n",
       " 'Photon_seediPhiOriY',\n",
       " 'Photon_vidNestedWPBitmap',\n",
       " 'Photon_ecalPFClusterIso',\n",
       " 'Photon_energyErr',\n",
       " 'Photon_energyRaw',\n",
       " 'Photon_esEffSigmaRR',\n",
       " 'Photon_esEnergyOverRawE',\n",
       " 'Photon_eta',\n",
       " 'Photon_etaWidth',\n",
       " 'Photon_haloTaggerMVAVal',\n",
       " 'Photon_hcalPFClusterIso',\n",
       " 'Photon_hoe',\n",
       " 'Photon_hoe_PUcorr',\n",
       " 'Photon_mvaID',\n",
       " 'Photon_pfChargedIso',\n",
       " 'Photon_pfChargedIsoPFPV',\n",
       " 'Photon_pfChargedIsoWorstVtx',\n",
       " 'Photon_pfPhoIso03',\n",
       " 'Photon_pfRelIso03_all_quadratic',\n",
       " 'Photon_pfRelIso03_chg_quadratic',\n",
       " 'Photon_phi',\n",
       " 'Photon_phiWidth',\n",
       " 'Photon_pt',\n",
       " 'Photon_r9',\n",
       " 'Photon_s4',\n",
       " 'Photon_sieie',\n",
       " 'Photon_sieip',\n",
       " 'Photon_sipip',\n",
       " 'Photon_trkSumPtHollowConeDR03',\n",
       " 'Photon_trkSumPtSolidConeDR04',\n",
       " 'Photon_x_calo',\n",
       " 'Photon_y_calo',\n",
       " 'Photon_z_calo',\n",
       " 'Pileup_nPU',\n",
       " 'Pileup_sumEOOT',\n",
       " 'Pileup_sumLOOT',\n",
       " 'Pileup_nTrueInt',\n",
       " 'Pileup_pudensity',\n",
       " 'Pileup_gpudensity',\n",
       " 'PuppiMET_phi',\n",
       " 'PuppiMET_phiJERDown',\n",
       " 'PuppiMET_phiJERUp',\n",
       " 'PuppiMET_phiJESDown',\n",
       " 'PuppiMET_phiJESUp',\n",
       " 'PuppiMET_phiUnclusteredDown',\n",
       " 'PuppiMET_phiUnclusteredUp',\n",
       " 'PuppiMET_pt',\n",
       " 'PuppiMET_ptJERDown',\n",
       " 'PuppiMET_ptJERUp',\n",
       " 'PuppiMET_ptJESDown',\n",
       " 'PuppiMET_ptJESUp',\n",
       " 'PuppiMET_ptUnclusteredDown',\n",
       " 'PuppiMET_ptUnclusteredUp',\n",
       " 'PuppiMET_sumEt',\n",
       " 'RawMET_phi',\n",
       " 'RawMET_pt',\n",
       " 'RawMET_sumEt',\n",
       " 'RawPuppiMET_phi',\n",
       " 'RawPuppiMET_pt',\n",
       " 'RawPuppiMET_sumEt',\n",
       " 'Rho_fixedGridRhoAll',\n",
       " 'Rho_fixedGridRhoFastjetAll',\n",
       " 'Rho_fixedGridRhoFastjetCentral',\n",
       " 'Rho_fixedGridRhoFastjetCentralCalo',\n",
       " 'Rho_fixedGridRhoFastjetCentralChargedPileUp',\n",
       " 'Rho_fixedGridRhoFastjetCentralNeutral',\n",
       " 'nGenDressedLepton',\n",
       " 'GenDressedLepton_hasTauAnc',\n",
       " 'GenDressedLepton_pdgId',\n",
       " 'GenDressedLepton_eta',\n",
       " 'GenDressedLepton_mass',\n",
       " 'GenDressedLepton_phi',\n",
       " 'GenDressedLepton_pt',\n",
       " 'nGenIsolatedPhoton',\n",
       " 'GenIsolatedPhoton_eta',\n",
       " 'GenIsolatedPhoton_mass',\n",
       " 'GenIsolatedPhoton_phi',\n",
       " 'GenIsolatedPhoton_pt',\n",
       " 'nSoftActivityJet',\n",
       " 'SoftActivityJet_eta',\n",
       " 'SoftActivityJet_phi',\n",
       " 'SoftActivityJet_pt',\n",
       " 'SoftActivityJetNjets10',\n",
       " 'SoftActivityJetNjets2',\n",
       " 'SoftActivityJetNjets5',\n",
       " 'SoftActivityJetHT',\n",
       " 'SoftActivityJetHT10',\n",
       " 'SoftActivityJetHT2',\n",
       " 'SoftActivityJetHT5',\n",
       " 'nSubJet',\n",
       " 'SubJet_btagDeepB',\n",
       " 'SubJet_eta',\n",
       " 'SubJet_mass',\n",
       " 'SubJet_n2b1',\n",
       " 'SubJet_n3b1',\n",
       " 'SubJet_phi',\n",
       " 'SubJet_pt',\n",
       " 'SubJet_rawFactor',\n",
       " 'SubJet_tau1',\n",
       " 'SubJet_tau2',\n",
       " 'SubJet_tau3',\n",
       " 'SubJet_tau4',\n",
       " 'nTau',\n",
       " 'Tau_decayMode',\n",
       " 'Tau_idAntiEleDeadECal',\n",
       " 'Tau_idAntiMu',\n",
       " 'Tau_idDecayModeNewDMs',\n",
       " 'Tau_idDecayModeOldDMs',\n",
       " 'Tau_idDeepTau2017v2p1VSe',\n",
       " 'Tau_idDeepTau2017v2p1VSjet',\n",
       " 'Tau_idDeepTau2017v2p1VSmu',\n",
       " 'Tau_idDeepTau2018v2p5VSe',\n",
       " 'Tau_idDeepTau2018v2p5VSjet',\n",
       " 'Tau_idDeepTau2018v2p5VSmu',\n",
       " 'Tau_nSVs',\n",
       " 'Tau_charge',\n",
       " 'Tau_decayModePNet',\n",
       " 'Tau_eleIdx',\n",
       " 'Tau_jetIdx',\n",
       " 'Tau_muIdx',\n",
       " 'Tau_svIdx1',\n",
       " 'Tau_svIdx2',\n",
       " 'Tau_chargedIso',\n",
       " 'Tau_dxy',\n",
       " 'Tau_dz',\n",
       " 'Tau_eta',\n",
       " 'Tau_leadTkDeltaEta',\n",
       " 'Tau_leadTkDeltaPhi',\n",
       " 'Tau_leadTkPtOverTauPt',\n",
       " 'Tau_mass',\n",
       " 'Tau_neutralIso',\n",
       " 'Tau_phi',\n",
       " 'Tau_photonsOutsideSignalCone',\n",
       " 'Tau_probDM0PNet',\n",
       " 'Tau_probDM10PNet',\n",
       " 'Tau_probDM11PNet',\n",
       " 'Tau_probDM1PNet',\n",
       " 'Tau_probDM2PNet',\n",
       " 'Tau_pt',\n",
       " 'Tau_ptCorrPNet',\n",
       " 'Tau_puCorr',\n",
       " 'Tau_qConfPNet',\n",
       " 'Tau_rawDeepTau2017v2p1VSe',\n",
       " 'Tau_rawDeepTau2017v2p1VSjet',\n",
       " 'Tau_rawDeepTau2017v2p1VSmu',\n",
       " 'Tau_rawDeepTau2018v2p5VSe',\n",
       " 'Tau_rawDeepTau2018v2p5VSjet',\n",
       " 'Tau_rawDeepTau2018v2p5VSmu',\n",
       " 'Tau_rawIso',\n",
       " 'Tau_rawIsodR03',\n",
       " 'Tau_rawPNetVSe',\n",
       " 'Tau_rawPNetVSjet',\n",
       " 'Tau_rawPNetVSmu',\n",
       " 'TkMET_phi',\n",
       " 'TkMET_pt',\n",
       " 'TkMET_sumEt',\n",
       " 'nTrigObj',\n",
       " 'TrigObj_l1charge',\n",
       " 'TrigObj_id',\n",
       " 'TrigObj_l1iso',\n",
       " 'TrigObj_filterBits',\n",
       " 'TrigObj_pt',\n",
       " 'TrigObj_eta',\n",
       " 'TrigObj_phi',\n",
       " 'TrigObj_l1pt',\n",
       " 'TrigObj_l1pt_2',\n",
       " 'TrigObj_l2pt',\n",
       " 'genTtbarId',\n",
       " 'nOtherPV',\n",
       " 'OtherPV_z',\n",
       " 'OtherPV_score',\n",
       " 'PV_npvs',\n",
       " 'PV_npvsGood',\n",
       " 'PV_ndof',\n",
       " 'PV_x',\n",
       " 'PV_y',\n",
       " 'PV_z',\n",
       " 'PV_chi2',\n",
       " 'PV_score',\n",
       " 'nSV',\n",
       " 'SV_charge',\n",
       " 'SV_dlen',\n",
       " 'SV_dlenSig',\n",
       " 'SV_dxy',\n",
       " 'SV_dxySig',\n",
       " 'SV_pAngle',\n",
       " 'boostedTau_genPartFlav',\n",
       " 'boostedTau_genPartIdx',\n",
       " 'Electron_genPartFlav',\n",
       " 'Electron_genPartIdx',\n",
       " 'FatJet_hadronFlavour',\n",
       " 'FatJet_nBHadrons',\n",
       " 'FatJet_nCHadrons',\n",
       " 'FatJet_genJetAK8Idx',\n",
       " 'GenJetAK8_hadronFlavour',\n",
       " 'GenJetAK8_partonFlavour',\n",
       " 'GenJet_hadronFlavour',\n",
       " 'GenJet_partonFlavour',\n",
       " 'GenVtx_t0',\n",
       " 'Jet_hadronFlavour',\n",
       " 'Jet_genJetIdx',\n",
       " 'Jet_partonFlavour',\n",
       " 'LowPtElectron_genPartFlav',\n",
       " 'LowPtElectron_genPartIdx',\n",
       " 'Muon_genPartFlav',\n",
       " 'Muon_genPartIdx',\n",
       " 'Photon_genPartFlav',\n",
       " 'Photon_genPartIdx',\n",
       " 'MET_fiducialGenPhi',\n",
       " 'MET_fiducialGenPt',\n",
       " 'SubJet_hadronFlavour',\n",
       " 'SubJet_nBHadrons',\n",
       " 'SubJet_nCHadrons',\n",
       " 'SV_ntracks',\n",
       " 'SV_chi2',\n",
       " 'SV_eta',\n",
       " 'SV_mass',\n",
       " 'SV_ndof',\n",
       " 'SV_phi',\n",
       " 'SV_pt',\n",
       " 'SV_x',\n",
       " 'SV_y',\n",
       " 'SV_z',\n",
       " 'Tau_genPartFlav',\n",
       " 'Tau_genPartIdx',\n",
       " 'L1_AlwaysTrue',\n",
       " 'L1_BPTX_AND_Ref1_VME',\n",
       " 'L1_BPTX_AND_Ref3_VME',\n",
       " 'L1_BPTX_AND_Ref4_VME',\n",
       " 'L1_BPTX_BeamGas_B1_VME',\n",
       " 'L1_BPTX_BeamGas_B2_VME',\n",
       " 'L1_BPTX_BeamGas_Ref1_VME',\n",
       " 'L1_BPTX_BeamGas_Ref2_VME',\n",
       " 'L1_BPTX_NotOR_VME',\n",
       " 'L1_BPTX_OR_Ref3_VME',\n",
       " 'L1_BPTX_OR_Ref4_VME',\n",
       " 'L1_BPTX_RefAND_VME',\n",
       " 'L1_BptxMinus',\n",
       " 'L1_BptxOR',\n",
       " 'L1_BptxPlus',\n",
       " 'L1_BptxXOR',\n",
       " 'L1_CDC_SingleMu_3_er1p2_TOP120_DPHI2p618_3p142',\n",
       " 'L1_DoubleEG10_er1p2_dR_Max0p6',\n",
       " 'L1_DoubleEG10p5_er1p2_dR_Max0p6',\n",
       " 'L1_DoubleEG11_er1p2_dR_Max0p6',\n",
       " 'L1_DoubleEG4_er1p2_dR_Max0p9',\n",
       " 'L1_DoubleEG4p5_er1p2_dR_Max0p9',\n",
       " 'L1_DoubleEG5_er1p2_dR_Max0p9',\n",
       " 'L1_DoubleEG5p5_er1p2_dR_Max0p8',\n",
       " 'L1_DoubleEG6_er1p2_dR_Max0p8',\n",
       " 'L1_DoubleEG6p5_er1p2_dR_Max0p8',\n",
       " 'L1_DoubleEG7_er1p2_dR_Max0p8',\n",
       " 'L1_DoubleEG7p5_er1p2_dR_Max0p7',\n",
       " 'L1_DoubleEG8_er1p2_dR_Max0p7',\n",
       " 'L1_DoubleEG8er2p5_HTT260er',\n",
       " 'L1_DoubleEG8er2p5_HTT280er',\n",
       " 'L1_DoubleEG8er2p5_HTT300er',\n",
       " 'L1_DoubleEG8er2p5_HTT320er',\n",
       " 'L1_DoubleEG8er2p5_HTT340er',\n",
       " 'L1_DoubleEG8p5_er1p2_dR_Max0p7',\n",
       " 'L1_DoubleEG9_er1p2_dR_Max0p7',\n",
       " 'L1_DoubleEG9p5_er1p2_dR_Max0p6',\n",
       " 'L1_DoubleEG_15_10_er2p5',\n",
       " 'L1_DoubleEG_20_10_er2p5',\n",
       " 'L1_DoubleEG_22_10_er2p5',\n",
       " 'L1_DoubleEG_25_12_er2p5',\n",
       " 'L1_DoubleEG_25_14_er2p5',\n",
       " 'L1_DoubleEG_27_14_er2p5',\n",
       " 'L1_DoubleEG_LooseIso16_LooseIso12_er1p5',\n",
       " 'L1_DoubleEG_LooseIso18_LooseIso12_er1p5',\n",
       " 'L1_DoubleEG_LooseIso20_10_er2p5',\n",
       " 'L1_DoubleEG_LooseIso20_LooseIso12_er1p5',\n",
       " 'L1_DoubleEG_LooseIso22_10_er2p5',\n",
       " 'L1_DoubleEG_LooseIso22_12_er2p5',\n",
       " 'L1_DoubleEG_LooseIso22_LooseIso12_er1p5',\n",
       " 'L1_DoubleEG_LooseIso25_12_er2p5',\n",
       " 'L1_DoubleEG_LooseIso25_LooseIso12_er1p5',\n",
       " 'L1_DoubleIsoTau26er2p1_Jet55_RmOvlp_dR0p5',\n",
       " 'L1_DoubleIsoTau26er2p1_Jet70_RmOvlp_dR0p5',\n",
       " 'L1_DoubleIsoTau28er2p1',\n",
       " 'L1_DoubleIsoTau28er2p1_Mass_Max80',\n",
       " 'L1_DoubleIsoTau28er2p1_Mass_Max90',\n",
       " 'L1_DoubleIsoTau30er2p1',\n",
       " 'L1_DoubleIsoTau30er2p1_Mass_Max80',\n",
       " 'L1_DoubleIsoTau30er2p1_Mass_Max90',\n",
       " 'L1_DoubleIsoTau32er2p1',\n",
       " 'L1_DoubleIsoTau34er2p1',\n",
       " 'L1_DoubleIsoTau35er2p1',\n",
       " 'L1_DoubleIsoTau36er2p1',\n",
       " 'L1_DoubleJet100er2p3_dEta_Max1p6',\n",
       " 'L1_DoubleJet100er2p5',\n",
       " 'L1_DoubleJet112er2p3_dEta_Max1p6',\n",
       " 'L1_DoubleJet120er2p5',\n",
       " 'L1_DoubleJet150er2p5',\n",
       " 'L1_DoubleJet30er2p5_Mass_Min150_dEta_Max1p5',\n",
       " 'L1_DoubleJet30er2p5_Mass_Min200_dEta_Max1p5',\n",
       " 'L1_DoubleJet30er2p5_Mass_Min250_dEta_Max1p5',\n",
       " 'L1_DoubleJet30er2p5_Mass_Min300_dEta_Max1p5',\n",
       " 'L1_DoubleJet30er2p5_Mass_Min330_dEta_Max1p5',\n",
       " 'L1_DoubleJet30er2p5_Mass_Min360_dEta_Max1p5',\n",
       " 'L1_DoubleJet35_Mass_Min450_IsoTau45_RmOvlp',\n",
       " 'L1_DoubleJet35_Mass_Min450_IsoTau45er2p1_RmOvlp_dR0p5',\n",
       " 'L1_DoubleJet40er2p5',\n",
       " 'L1_DoubleJet_100_30_DoubleJet30_Mass_Min620',\n",
       " 'L1_DoubleJet_110_35_DoubleJet35_Mass_Min620',\n",
       " 'L1_DoubleJet_115_40_DoubleJet40_Mass_Min620',\n",
       " 'L1_DoubleJet_115_40_DoubleJet40_Mass_Min620_Jet60TT28',\n",
       " 'L1_DoubleJet_120_45_DoubleJet45_Mass_Min620',\n",
       " 'L1_DoubleJet_120_45_DoubleJet45_Mass_Min620_Jet60TT28',\n",
       " 'L1_DoubleJet_80_30_Mass_Min420_DoubleMu0_SQ',\n",
       " 'L1_DoubleJet_80_30_Mass_Min420_IsoTau40_RmOvlp',\n",
       " 'L1_DoubleJet_80_30_Mass_Min420_Mu8',\n",
       " 'L1_DoubleJet_90_30_DoubleJet30_Mass_Min620',\n",
       " 'L1_DoubleLLPJet40',\n",
       " 'L1_DoubleLooseIsoEG22er2p1',\n",
       " 'L1_DoubleLooseIsoEG24er2p1',\n",
       " 'L1_DoubleMu0',\n",
       " 'L1_DoubleMu0_Mass_Min1',\n",
       " 'L1_DoubleMu0_OQ',\n",
       " 'L1_DoubleMu0_SQ',\n",
       " 'L1_DoubleMu0_SQ_OS',\n",
       " 'L1_DoubleMu0_Upt15_Upt7',\n",
       " 'L1_DoubleMu0_Upt5_Upt5',\n",
       " 'L1_DoubleMu0_Upt6_IP_Min1_Upt4',\n",
       " 'L1_DoubleMu0_dR_Max1p6_Jet90er2p5_dR_Max0p8',\n",
       " 'L1_DoubleMu0er1p4_OQ_OS_dEta_Max1p6',\n",
       " 'L1_DoubleMu0er1p4_SQ_OS_dR_Max1p4',\n",
       " 'L1_DoubleMu0er1p5_SQ',\n",
       " 'L1_DoubleMu0er1p5_SQ_OS',\n",
       " 'L1_DoubleMu0er1p5_SQ_OS_dR_Max1p4',\n",
       " 'L1_DoubleMu0er1p5_SQ_dR_Max1p4',\n",
       " 'L1_DoubleMu0er2p0_SQ_OS_dEta_Max1p5',\n",
       " 'L1_DoubleMu0er2p0_SQ_OS_dEta_Max1p6',\n",
       " 'L1_DoubleMu0er2p0_SQ_OS_dR_Max1p4',\n",
       " 'L1_DoubleMu0er2p0_SQ_dEta_Max1p5',\n",
       " 'L1_DoubleMu0er2p0_SQ_dEta_Max1p6',\n",
       " 'L1_DoubleMu0er2p0_SQ_dR_Max1p4',\n",
       " 'L1_DoubleMu18er2p1_SQ',\n",
       " 'L1_DoubleMu3_OS_er2p3_Mass_Max14_DoubleEG7p5_er2p1_Mass_Max20',\n",
       " 'L1_DoubleMu3_SQ_ETMHF30_HTT60er',\n",
       " 'L1_DoubleMu3_SQ_ETMHF30_Jet60er2p5_OR_DoubleJet40er2p5',\n",
       " 'L1_DoubleMu3_SQ_ETMHF40_HTT60er',\n",
       " 'L1_DoubleMu3_SQ_ETMHF40_Jet60er2p5_OR_DoubleJet40er2p5',\n",
       " 'L1_DoubleMu3_SQ_ETMHF50_HTT60er',\n",
       " 'L1_DoubleMu3_SQ_ETMHF50_Jet60er2p5',\n",
       " 'L1_DoubleMu3_SQ_ETMHF50_Jet60er2p5_OR_DoubleJet40er2p5',\n",
       " 'L1_DoubleMu3_SQ_ETMHF60_Jet60er2p5',\n",
       " 'L1_DoubleMu3_SQ_HTT220er',\n",
       " 'L1_DoubleMu3_SQ_HTT240er',\n",
       " 'L1_DoubleMu3_SQ_HTT260er',\n",
       " 'L1_DoubleMu3_dR_Max1p6_Jet90er2p5_dR_Max0p8',\n",
       " 'L1_DoubleMu3er2p0_SQ_OS_dR_Max1p4',\n",
       " 'L1_DoubleMu4_SQ_EG9er2p5',\n",
       " 'L1_DoubleMu4_SQ_OS',\n",
       " 'L1_DoubleMu4_SQ_OS_dR_Max1p2',\n",
       " 'L1_DoubleMu4p5_SQ_OS',\n",
       " 'L1_DoubleMu4p5_SQ_OS_dR_Max1p2',\n",
       " 'L1_DoubleMu4p5er2p0_SQ_OS',\n",
       " 'L1_DoubleMu4p5er2p0_SQ_OS_Mass_7to18',\n",
       " 'L1_DoubleMu4p5er2p0_SQ_OS_Mass_Min7',\n",
       " 'L1_DoubleMu5_OS_er2p3_Mass_8to14_DoubleEG3er2p1_Mass_Max20',\n",
       " 'L1_DoubleMu5_SQ_EG9er2p5',\n",
       " 'L1_DoubleMu8_SQ',\n",
       " 'L1_DoubleMu9_SQ',\n",
       " 'L1_DoubleMu_12_5',\n",
       " 'L1_DoubleMu_15_5_SQ',\n",
       " 'L1_DoubleMu_15_7',\n",
       " 'L1_DoubleMu_15_7_Mass_Min1',\n",
       " 'L1_DoubleMu_15_7_SQ',\n",
       " 'L1_DoubleTau70er2p1',\n",
       " 'L1_ETM120',\n",
       " 'L1_ETM150',\n",
       " 'L1_ETMHF100',\n",
       " 'L1_ETMHF100_HTT60er',\n",
       " 'L1_ETMHF110',\n",
       " 'L1_ETMHF110_HTT60er',\n",
       " 'L1_ETMHF110_HTT60er_NotSecondBunchInTrain',\n",
       " 'L1_ETMHF120',\n",
       " 'L1_ETMHF120_HTT60er',\n",
       " 'L1_ETMHF120_NotSecondBunchInTrain',\n",
       " 'L1_ETMHF130',\n",
       " 'L1_ETMHF130_HTT60er',\n",
       " 'L1_ETMHF140',\n",
       " 'L1_ETMHF150',\n",
       " 'L1_ETMHF70',\n",
       " 'L1_ETMHF70_HTT60er',\n",
       " 'L1_ETMHF80',\n",
       " 'L1_ETMHF80_HTT60er',\n",
       " 'L1_ETMHF80_SingleJet55er2p5_dPhi_Min2p1',\n",
       " 'L1_ETMHF80_SingleJet55er2p5_dPhi_Min2p6',\n",
       " 'L1_ETMHF90',\n",
       " 'L1_ETMHF90_HTT60er',\n",
       " 'L1_ETMHF90_SingleJet60er2p5_dPhi_Min2p1',\n",
       " 'L1_ETMHF90_SingleJet60er2p5_dPhi_Min2p6',\n",
       " 'L1_ETMHF90_SingleJet80er2p5_dPhi_Min2p1',\n",
       " 'L1_ETMHF90_SingleJet80er2p5_dPhi_Min2p6',\n",
       " 'L1_ETT1200',\n",
       " 'L1_ETT1600',\n",
       " 'L1_ETT2000',\n",
       " 'L1_FirstBunchAfterTrain',\n",
       " 'L1_FirstBunchBeforeTrain',\n",
       " 'L1_FirstBunchInTrain',\n",
       " 'L1_FirstCollisionInOrbit',\n",
       " 'L1_FirstCollisionInTrain',\n",
       " 'L1_HCAL_LaserMon_Trig',\n",
       " 'L1_HCAL_LaserMon_Veto',\n",
       " 'L1_HTT120_SingleLLPJet40',\n",
       " 'L1_HTT120er',\n",
       " 'L1_HTT160_SingleLLPJet50',\n",
       " 'L1_HTT160er',\n",
       " 'L1_HTT200_SingleLLPJet60',\n",
       " 'L1_HTT200er',\n",
       " 'L1_HTT240_SingleLLPJet70',\n",
       " 'L1_HTT255er',\n",
       " 'L1_HTT280er',\n",
       " 'L1_HTT280er_QuadJet_70_55_40_35_er2p5',\n",
       " 'L1_HTT320er',\n",
       " 'L1_HTT320er_QuadJet_70_55_40_40_er2p5',\n",
       " 'L1_HTT320er_QuadJet_80_60_er2p1_45_40_er2p3',\n",
       " 'L1_HTT320er_QuadJet_80_60_er2p1_50_45_er2p3',\n",
       " 'L1_HTT360er',\n",
       " 'L1_HTT400er',\n",
       " 'L1_HTT450er',\n",
       " 'L1_IsoEG32er2p5_Mt40',\n",
       " 'L1_IsoTau52er2p1_QuadJet36er2p5',\n",
       " 'L1_IsolatedBunch',\n",
       " 'L1_LastBunchInTrain',\n",
       " 'L1_LastCollisionInTrain',\n",
       " 'L1_LooseIsoEG22er2p1_IsoTau26er2p1_dR_Min0p3',\n",
       " 'L1_LooseIsoEG22er2p1_Tau70er2p1_dR_Min0p3',\n",
       " 'L1_LooseIsoEG24er2p1_HTT100er',\n",
       " 'L1_LooseIsoEG24er2p1_IsoTau27er2p1_dR_Min0p3',\n",
       " 'L1_LooseIsoEG26er2p1_HTT100er',\n",
       " 'L1_LooseIsoEG26er2p1_Jet34er2p5_dR_Min0p3',\n",
       " 'L1_LooseIsoEG28er2p1_HTT100er',\n",
       " 'L1_LooseIsoEG28er2p1_Jet34er2p5_dR_Min0p3',\n",
       " 'L1_LooseIsoEG30er2p1_HTT100er',\n",
       " 'L1_LooseIsoEG30er2p1_Jet34er2p5_dR_Min0p3',\n",
       " 'L1_MinimumBiasHF0',\n",
       " 'L1_MinimumBiasHF0_AND_BptxAND',\n",
       " 'L1_Mu10er2p3_Jet32er2p3_dR_Max0p4_DoubleJet32er2p3_dEta_Max1p6',\n",
       " 'L1_Mu12er2p3_Jet40er2p1_dR_Max0p4_DoubleJet40er2p1_dEta_Max1p6',\n",
       " 'L1_Mu12er2p3_Jet40er2p3_dR_Max0p4_DoubleJet40er2p3_dEta_Max1p6',\n",
       " 'L1_Mu18er2p1_Tau24er2p1',\n",
       " 'L1_Mu18er2p1_Tau26er2p1',\n",
       " 'L1_Mu18er2p1_Tau26er2p1_Jet55',\n",
       " 'L1_Mu18er2p1_Tau26er2p1_Jet70',\n",
       " 'L1_Mu20_EG10er2p5',\n",
       " 'L1_Mu22er2p1_IsoTau28er2p1',\n",
       " 'L1_Mu22er2p1_IsoTau30er2p1',\n",
       " 'L1_Mu22er2p1_IsoTau32er2p1',\n",
       " 'L1_Mu22er2p1_IsoTau34er2p1',\n",
       " 'L1_Mu22er2p1_IsoTau36er2p1',\n",
       " 'L1_Mu22er2p1_IsoTau40er2p1',\n",
       " 'L1_Mu22er2p1_Tau70er2p1',\n",
       " 'L1_Mu3_Jet120er2p5_dR_Max0p4',\n",
       " 'L1_Mu3_Jet120er2p5_dR_Max0p8',\n",
       " 'L1_Mu3_Jet16er2p5_dR_Max0p4',\n",
       " 'L1_Mu3_Jet30er2p5',\n",
       " 'L1_Mu3_Jet35er2p5_dR_Max0p4',\n",
       " 'L1_Mu3_Jet60er2p5_dR_Max0p4',\n",
       " 'L1_Mu3_Jet80er2p5_dR_Max0p4',\n",
       " 'L1_Mu3er1p5_Jet100er2p5_ETMHF30',\n",
       " 'L1_Mu3er1p5_Jet100er2p5_ETMHF40',\n",
       " 'L1_Mu3er1p5_Jet100er2p5_ETMHF50',\n",
       " 'L1_Mu5_EG23er2p5',\n",
       " 'L1_Mu5_LooseIsoEG20er2p5',\n",
       " 'L1_Mu6_DoubleEG10er2p5',\n",
       " 'L1_Mu6_DoubleEG12er2p5',\n",
       " 'L1_Mu6_DoubleEG15er2p5',\n",
       " 'L1_Mu6_DoubleEG17er2p5',\n",
       " 'L1_Mu6_HTT240er',\n",
       " 'L1_Mu6_HTT250er',\n",
       " 'L1_Mu7_EG20er2p5',\n",
       " 'L1_Mu7_EG23er2p5',\n",
       " 'L1_Mu7_LooseIsoEG20er2p5',\n",
       " 'L1_Mu7_LooseIsoEG23er2p5',\n",
       " 'L1_NotBptxOR',\n",
       " 'L1_QuadJet60er2p5',\n",
       " 'L1_QuadJet_95_75_65_20_DoubleJet_75_65_er2p5_Jet20_FWD3p0',\n",
       " 'L1_QuadMu0',\n",
       " 'L1_QuadMu0_OQ',\n",
       " 'L1_QuadMu0_SQ',\n",
       " 'L1_SecondBunchInTrain',\n",
       " 'L1_SecondLastBunchInTrain',\n",
       " 'L1_SingleEG10er2p5',\n",
       " 'L1_SingleEG15er2p5',\n",
       " 'L1_SingleEG26er2p5',\n",
       " 'L1_SingleEG28_FWD2p5',\n",
       " 'L1_SingleEG28er1p5',\n",
       " 'L1_SingleEG28er2p1',\n",
       " 'L1_SingleEG28er2p5',\n",
       " 'L1_SingleEG34er2p5',\n",
       " 'L1_SingleEG36er2p5',\n",
       " 'L1_SingleEG38er2p5',\n",
       " 'L1_SingleEG40er2p5',\n",
       " 'L1_SingleEG42er2p5',\n",
       " 'L1_SingleEG45er2p5',\n",
       " 'L1_SingleEG50',\n",
       " 'L1_SingleEG60',\n",
       " 'L1_SingleEG8er2p5',\n",
       " 'L1_SingleIsoEG24er1p5',\n",
       " 'L1_SingleIsoEG24er2p1',\n",
       " 'L1_SingleIsoEG26er1p5',\n",
       " 'L1_SingleIsoEG26er2p1',\n",
       " 'L1_SingleIsoEG26er2p5',\n",
       " 'L1_SingleIsoEG28_FWD2p5',\n",
       " 'L1_SingleIsoEG28er1p5',\n",
       " 'L1_SingleIsoEG28er2p1',\n",
       " 'L1_SingleIsoEG28er2p5',\n",
       " 'L1_SingleIsoEG30er2p1',\n",
       " 'L1_SingleIsoEG30er2p5',\n",
       " 'L1_SingleIsoEG32er2p1',\n",
       " 'L1_SingleIsoEG32er2p5',\n",
       " 'L1_SingleIsoEG34er2p5',\n",
       " 'L1_SingleIsoTau32er2p1',\n",
       " 'L1_SingleJet10erHE',\n",
       " 'L1_SingleJet120',\n",
       " 'L1_SingleJet120_FWD3p0',\n",
       " 'L1_SingleJet120er2p5',\n",
       " 'L1_SingleJet12erHE',\n",
       " 'L1_SingleJet140er2p5',\n",
       " 'L1_SingleJet140er2p5_ETMHF70',\n",
       " 'L1_SingleJet140er2p5_ETMHF80',\n",
       " 'L1_SingleJet140er2p5_ETMHF90',\n",
       " 'L1_SingleJet160er2p5',\n",
       " 'L1_SingleJet180',\n",
       " 'L1_SingleJet180er2p5',\n",
       " 'L1_SingleJet200',\n",
       " 'L1_SingleJet20er2p5_NotBptxOR',\n",
       " 'L1_SingleJet20er2p5_NotBptxOR_3BX',\n",
       " 'L1_SingleJet35',\n",
       " 'L1_SingleJet35_FWD3p0',\n",
       " 'L1_SingleJet35er2p5',\n",
       " 'L1_SingleJet43er2p5_NotBptxOR_3BX',\n",
       " 'L1_SingleJet46er2p5_NotBptxOR_3BX',\n",
       " 'L1_SingleJet60',\n",
       " 'L1_SingleJet60_FWD3p0',\n",
       " 'L1_SingleJet60er2p5',\n",
       " 'L1_SingleJet8erHE',\n",
       " 'L1_SingleJet90',\n",
       " 'L1_SingleJet90_FWD3p0',\n",
       " 'L1_SingleJet90er2p5',\n",
       " 'L1_SingleLooseIsoEG26er1p5',\n",
       " 'L1_SingleLooseIsoEG26er2p5',\n",
       " 'L1_SingleLooseIsoEG28_FWD2p5',\n",
       " 'L1_SingleLooseIsoEG28er1p5',\n",
       " 'L1_SingleLooseIsoEG28er2p1',\n",
       " 'L1_SingleLooseIsoEG28er2p5',\n",
       " 'L1_SingleLooseIsoEG30er1p5',\n",
       " 'L1_SingleLooseIsoEG30er2p5',\n",
       " 'L1_SingleMu0_BMTF',\n",
       " 'L1_SingleMu0_DQ',\n",
       " 'L1_SingleMu0_EMTF',\n",
       " 'L1_SingleMu0_OMTF',\n",
       " 'L1_SingleMu10er1p5',\n",
       " 'L1_SingleMu12_DQ_BMTF',\n",
       " 'L1_SingleMu12_DQ_EMTF',\n",
       " 'L1_SingleMu12_DQ_OMTF',\n",
       " 'L1_SingleMu12er1p5',\n",
       " 'L1_SingleMu14er1p5',\n",
       " 'L1_SingleMu15_DQ',\n",
       " 'L1_SingleMu16er1p5',\n",
       " 'L1_SingleMu18',\n",
       " 'L1_SingleMu18er1p5',\n",
       " 'L1_SingleMu20',\n",
       " 'L1_SingleMu22',\n",
       " 'L1_SingleMu22_BMTF',\n",
       " 'L1_SingleMu22_DQ',\n",
       " 'L1_SingleMu22_EMTF',\n",
       " 'L1_SingleMu22_OMTF',\n",
       " 'L1_SingleMu22_OQ',\n",
       " 'L1_SingleMu25',\n",
       " 'L1_SingleMu3',\n",
       " 'L1_SingleMu5',\n",
       " ...]"
      ]
     },
     "execution_count": 6,
     "metadata": {},
     "output_type": "execute_result"
    }
   ],
   "source": [
    "events.keys()\n",
    "#events.values()\n",
    "#events.show()"
   ]
  },
  {
   "cell_type": "markdown",
   "metadata": {},
   "source": [
    "**Question 1**: Which collections contain muons or muon candidates? (At any level: generated, reconstructed, trigger, etc.)"
   ]
  },
  {
   "cell_type": "markdown",
   "metadata": {},
   "source": [
    "**Answer 1:**\n",
    "Muon, Trigobj, GenPart"
   ]
  },
  {
   "cell_type": "markdown",
   "metadata": {},
   "source": [
    "# Step2 Print and plot some muon objects \n",
    "We can print different objects such as transeverse momentum($p_T$ pt), pseudorapidity(eta $\\eta$) and azimuthal angle(phi $\\phi$) and apply cut on $p_T$, $\\eta$ and $\\phi$ using uproot.<br>\n",
    "First lets print pt eta phi of reconstructed muon "
   ]
  },
  {
   "cell_type": "code",
   "execution_count": 7,
   "metadata": {},
   "outputs": [],
   "source": [
    "muon_pt,muon_eta,muon_phi,nmuon,ngenpart=events.arrays([\"Muon_pt\", \"Muon_eta\", \"Muon_phi\", \"nMuon\", \"nGenPart\"],library=\"ak\",how=tuple)"
   ]
  },
  {
   "cell_type": "code",
   "execution_count": 8,
   "metadata": {},
   "outputs": [
    {
     "name": "stdout",
     "output_type": "stream",
     "text": [
      "muon_pt= [[], [], [14.2], [41.4, 37.2], [65.3, ... 28.8], [26.8, 24.4], [], [41.6, 32.2]] \n",
      " muon_eta= [[], [], [-0.359], [1.06, -0.0674], ... [-0.719, 0.676], [], [0.722, -0.701]] \n",
      " muon_phi= [[], [], [-3], [2.61, -0.37], ... 0.336], [0.317, -2.96], [], [-0.0455, -3.06]]\n"
     ]
    }
   ],
   "source": [
    "print('muon_pt=', muon_pt, '\\n',\n",
    "      'muon_eta=', muon_eta, '\\n',\n",
    "      'muon_phi=', muon_phi)\n"
   ]
  },
  {
   "cell_type": "markdown",
   "metadata": {},
   "source": [
    "Lets plot them using matplotlib"
   ]
  },
  {
   "cell_type": "code",
   "execution_count": 9,
   "metadata": {
    "scrolled": true
   },
   "outputs": [
    {
     "data": {
      "text/plain": [
       "Text(0, 0.5, 'Events')"
      ]
     },
     "execution_count": 9,
     "metadata": {},
     "output_type": "execute_result"
    },
    {
     "data": {
      "image/png": "[encoded data removed]",
      "text/plain": [
       "<Figure size 648x432 with 1 Axes>"
      ]
     },
     "metadata": {
      "needs_background": "light"
     },
     "output_type": "display_data"
    }
   ],
   "source": [
    "plt.figure(figsize=(9,6))\n",
    "plt.hist(ak.flatten(muon_pt), bins=150, range=[0,150], histtype='step',linewidth=2, color='blue', label='$p_T$ distribution of all Muons')\n",
    "plt.title('$p_T$ distribution of PAT Muon objects')\n",
    "plt.xlabel(r'Muon $p_T$ (GeV)')\n",
    "plt.ylabel('Events')"
   ]
  },
  {
   "cell_type": "code",
   "execution_count": 10,
   "metadata": {},
   "outputs": [
    {
     "data": {
      "text/plain": [
       "Text(0, 0.5, 'Events')"
      ]
     },
     "execution_count": 10,
     "metadata": {},
     "output_type": "execute_result"
    },
    {
     "data": {
      "image/png": "[encoded data removed]",
      "text/plain": [
       "<Figure size 648x432 with 1 Axes>"
      ]
     },
     "metadata": {
      "needs_background": "light"
     },
     "output_type": "display_data"
    }
   ],
   "source": [
    "plt.figure(figsize=(9,6))\n",
    "plt.hist(ak.flatten(muon_eta), bins=60, range=[-3, 3], histtype='step',linewidth=2, color='red', label='muon_$\\eta$')\n",
    "plt.title('$\\eta$ distribution of PAT Muon objects')\n",
    "plt.xlabel(r'Muon $\\eta$')\n",
    "plt.ylabel('Events')"
   ]
  },
  {
   "cell_type": "code",
   "execution_count": 11,
   "metadata": {},
   "outputs": [
    {
     "data": {
      "text/plain": [
       "Text(0, 0.5, 'Events')"
      ]
     },
     "execution_count": 11,
     "metadata": {},
     "output_type": "execute_result"
    },
    {
     "data": {
      "image/png": "[encoded data removed]",
      "text/plain": [
       "<Figure size 648x432 with 1 Axes>"
      ]
     },
     "metadata": {
      "needs_background": "light"
     },
     "output_type": "display_data"
    }
   ],
   "source": [
    "plt.figure(figsize=(9,6))\n",
    "plt.hist(ak.flatten(muon_phi), bins=70, range=[-3.5, 3.5], histtype='step',linewidth=2, color='green', label='muon_$\\phi$')\n",
    "plt.title('$\\phi$ distribution of PAT Muon objects')\n",
    "plt.xlabel(r'Muon $\\phi$')\n",
    "plt.ylabel('Events')"
   ]
  },
  {
   "cell_type": "markdown",
   "metadata": {},
   "source": [
    "Then lets apply criteria such as pt>20 GeV and |eta|<2.4."
   ]
  },
  {
   "cell_type": "code",
   "execution_count": 12,
   "metadata": {},
   "outputs": [
    {
     "data": {
      "text/plain": [
       "<Array [[], [], [False], ... [], [True, True]] type='930236 * var * bool'>"
      ]
     },
     "execution_count": 12,
     "metadata": {},
     "output_type": "execute_result"
    }
   ],
   "source": [
    "masking=(muon_pt>20)&(abs(muon_eta)<2.4)\n",
    "masking"
   ]
  },
  {
   "cell_type": "markdown",
   "metadata": {},
   "source": [
    "As you can see above, by performing masking, a jagged array of bool values is created.\n",
    "Then using the sytax array[masking], we keep only the varible that is true in the masking array"
   ]
  },
  {
   "cell_type": "code",
   "execution_count": 13,
   "metadata": {},
   "outputs": [
    {
     "name": "stdout",
     "output_type": "stream",
     "text": [
      "muon_pt= [[], [], [], [41.4, 37.2], [65.3], ... 33.7, 28.8], [26.8, 24.4], [], [41.6, 32.2]] \n",
      " muon_eta= [[], [], [], [1.06, -0.0674], [-2.28, ... [-0.719, 0.676], [], [0.722, -0.701]] \n",
      " muon_phi= [[], [], [], [2.61, -0.37], [2.27], ... 0.336], [0.317, -2.96], [], [-0.0455, -3.06]]\n"
     ]
    }
   ],
   "source": [
    "print('muon_pt=', muon_pt[masking], '\\n',\n",
    "      'muon_eta=', muon_eta[masking], '\\n',\n",
    "      'muon_phi=', muon_phi[masking])"
   ]
  },
  {
   "cell_type": "markdown",
   "metadata": {},
   "source": [
    "Then lets plot pt of reconstructed muon and reconstructed muon with pt>20 GeV and |eta|<2.4, note that we can use flatten() to reduce the jagged 2 dimension array to 1 dimension."
   ]
  },
  {
   "cell_type": "code",
   "execution_count": 14,
   "metadata": {},
   "outputs": [],
   "source": [
    "muon_pt_masked=muon_pt[masking]\n",
    "muon_pt_flat=ak.flatten(muon_pt)\n",
    "muon_pt_masked_flat=ak.flatten(muon_pt_masked)"
   ]
  },
  {
   "cell_type": "code",
   "execution_count": 15,
   "metadata": {},
   "outputs": [
    {
     "data": {
      "text/plain": [
       "Text(0, 0.5, 'Events')"
      ]
     },
     "execution_count": 15,
     "metadata": {},
     "output_type": "execute_result"
    },
    {
     "data": {
      "image/png": "[encoded data removed]",
      "text/plain": [
       "<Figure size 648x432 with 1 Axes>"
      ]
     },
     "metadata": {
      "needs_background": "light"
     },
     "output_type": "display_data"
    }
   ],
   "source": [
    "plt.figure(figsize=(9,6))\n",
    "plt.hist(muon_pt_flat, bins=150, range=[0,150], histtype='step',linewidth=2, color='red', label='muon_$p_T$')\n",
    "plt.hist(muon_pt_masked_flat, bins=150, range=[0,150], histtype='step',linewidth=2, linestyle=':', color='blue', label='muon_$p_T$ with criteria')\n",
    "plt.legend()\n",
    "plt.xlabel(r'Muon $p_T$ (GeV)')\n",
    "plt.ylabel('Events')"
   ]
  },
  {
   "cell_type": "markdown",
   "metadata": {},
   "source": [
    "**Question 2**: Using the syntax above, plot the main kinematic observables for the following objects and selections (only the first few events):\n",
    "* all final-state muons in the GenPart collection\n",
    "* all final-state muons in the GenPart collection with pT > 20 GeV and |η| < 2.4\n",
    "* all final-state muons in the GenPart collection with pT > 20 GeV and |η| < 2.4, and not coming from a hadron or τ decay\n",
    "\n",
    "**Question 3**: Compare the numbers of reconstructed and generated muons and their pT spectra at different selection stages, by overlaying the distributions in the same frame.<br>\n",
    "Since you are running on a Drell–Yan sample, you would expect two muons per event. Explain why there are sometimes more than two muons in an event.<br>\n",
    "Look at the full distributions, without η and pT cuts. Can you explain the differences?<br>\n",
    "\n",
    "Hint (GenPart_statusFlags: gen status flags stored bitwise. Bits are: 0 : isPrompt, 1 : isDecayedLeptonHadron, 2 : isTauDecayProduct, 3 : isPromptTauDecayProduct, 4 : isDirectTauDecayProduct, 5 : isDirectPromptTauDecayProduct, 6 : isDirectHadronDecayProduct, 7 : isHardProcess, 8 : fromHardProcess, 9 : isHardProcessTauDecayProduct, 10 : isDirectHardProcessTauDecayProduct, 11 : fromHardProcessBeforeFSR, 12 : isFirstCopy, 13 : isLastCopy, 14 : isLastCopyBeforeFSR,\n",
    "\n",
    "GenPart_status\tParticle status. 1=stable)"
   ]
  },
  {
   "cell_type": "code",
   "execution_count": 40,
   "metadata": {},
   "outputs": [
    {
     "name": "stdout",
     "output_type": "stream",
     "text": [
      "[8193, 8256, 8449, 12289, 12308, 12348, 12352, 12673]\n"
     ]
    }
   ],
   "source": [
    "print(np.unique(ak.flatten(genpart_statusflags[masking_one & (genpart_pt<1)])))"
   ]
  },
  {
   "cell_type": "code",
   "execution_count": 41,
   "metadata": {},
   "outputs": [
    {
     "data": {
      "image/png": "[encoded data removed]",
      "text/plain": [
       "<Figure size 648x432 with 1 Axes>"
      ]
     },
     "metadata": {
      "needs_background": "light"
     },
     "output_type": "display_data"
    }
   ],
   "source": [
    "genpart_status, genpart_statusflags, genpart_pdgid, genpart_pt, genpart_eta, genpart_phi=events.arrays([\"GenPart_status\", \"GenPart_statusFlags\", \"GenPart_pdgId\", \"GenPart_pt\", \"GenPart_eta\", \"GenPart_phi\"], library='ak', how=tuple)\n",
    "masking_one=(abs(genpart_pdgid)==13)& (genpart_status==1)\n",
    "masking_two=(abs(genpart_pdgid)==13)& (genpart_status==1)&(genpart_pt>20)&(abs(genpart_eta)<2.4)\n",
    "masking_three=(abs(genpart_pdgid)==13)& (genpart_status==1)&(genpart_pt>20)&(abs(genpart_eta)<2.4)&((genpart_statusflags%2)==1)\n",
    "plt.figure(figsize=(9,6))\n",
    "plt.hist(ak.flatten(genpart_pt[masking_one]), bins=150, range=[0,150], histtype='step',linewidth=2, color='red', label='All final state Muons')\n",
    "plt.hist(ak.flatten(genpart_pt[masking_two]), bins=150, range=[0,150], histtype='step',linewidth=2, color='blue', label='Final state Muons with $p_T$ > 20GeV and $|\\eta|$<2.4')\n",
    "plt.hist(ak.flatten(genpart_pt[masking_three]), bins=150, range=[0,150], histtype='step',linewidth=2, color='brown', linestyle=('dashed'), label='Final state Muons with $p_T$ > 20GeV and $|\\eta|$<2.4\\nand not coming from hadron or $\\\\tau$ decay')\n",
    "plt.legend()\n",
    "plt.title('$p_T$ distribution of the Generated Muons')\n",
    "plt.xlabel(r'generated Muon $p_T$ (GeV)')\n",
    "plt.ylabel('Events')\n",
    "plt. yscale('log')"
   ]
  },
  {
   "cell_type": "markdown",
   "metadata": {},
   "source": [
    "Lets also compare the number of muons in each event between reconstructed one and generated one"
   ]
  },
  {
   "cell_type": "code",
   "execution_count": null,
   "metadata": {},
   "outputs": [],
   "source": []
  },
  {
   "cell_type": "code",
   "execution_count": 14,
   "metadata": {},
   "outputs": [
    {
     "data": {
      "text/plain": [
       "Text(0, 0.5, 'Events')"
      ]
     },
     "execution_count": 14,
     "metadata": {},
     "output_type": "execute_result"
    },
    {
     "data": {
      "image/png": "[encoded data removed]",
      "text/plain": [
       "<Figure size 900x600 with 1 Axes>"
      ]
     },
     "metadata": {},
     "output_type": "display_data"
    }
   ],
   "source": [
    "plt.figure(figsize=(9,6))\n",
    "plt.hist(nmuon, bins=10, range=[0,10], histtype='step',linewidth=2, color='red', label='number of PAT muons')\n",
    "plt.hist(ak.count(genpart_pt[masking_one], axis=1), bins=10, range=[0,10], histtype='step',linewidth=2, color='blue', label='number of GEN muons')\n",
    "plt.legend()\n",
    "plt.xlabel('number of muon')\n",
    "plt.ylabel('Events')"
   ]
  },
  {
   "cell_type": "code",
   "execution_count": 15,
   "metadata": {},
   "outputs": [
    {
     "data": {
      "text/plain": [
       "Text(0, 0.5, 'Events')"
      ]
     },
     "execution_count": 15,
     "metadata": {},
     "output_type": "execute_result"
    },
    {
     "data": {
      "image/png": "[encoded data removed]",
      "text/plain": [
       "<Figure size 900x600 with 1 Axes>"
      ]
     },
     "metadata": {},
     "output_type": "display_data"
    }
   ],
   "source": [
    "plt.figure(figsize=(9,6))\n",
    "plt.hist(ak.flatten(muon_pt), bins=150, range=[0,150], histtype='step',linewidth=2, color='blue', label='recon_muon_$p_T$')\n",
    "plt.hist(ak.flatten(genpart_pt[masking_one]), bins=150, range=[0,150], histtype='step',linewidth=2, color='red', label='gen_muon_$p_T$')\n",
    "plt.legend()\n",
    "plt.xlabel(r'Muon $p_T$ (GeV)')\n",
    "plt.ylabel('Events')"
   ]
  },
  {
   "cell_type": "markdown",
   "metadata": {},
   "source": [
    "**Answers 3:**\n",
    "\n",
    "- Other than the muons from the DY process, there are muons produced in the “underlying event” or in pileup vertices (mostly from hadron decays)\n",
    "- In the higher pT region (20–60 GeV, muons from Z decays), there are more GEN muons than PAT muons, because the GenParticle collection includes muons outside the detector acceptance (|η| > 2.4), which are not reconstructed.\n",
    "- In the very low-pT region (< 10 GeV) there are more reconstructed muons than generated ones. Fake muons and muons from light-hadron decays, which are generally low pT, are not included in the GenParticle collection"
   ]
  },
  {
   "cell_type": "markdown",
   "metadata": {},
   "source": [
    "# Step 3 Gen matching\n",
    "When working with simulated data, it is sometime useful to pair each reconstructed muon to its corresponding generated particle, e.g. for efficiency or resolution studies. In this part of the exercise we will learn possible ways to do this.<br>\n",
    "\n",
    "Gen matching information for muon is already stored in Muon_genPartIdx, which is matched on status=1 muon using particle flow algorithm. \n",
    "Lets print the Moun_genPartIdx. Note that -1 means cannot matched to generated particles."
   ]
  },
  {
   "cell_type": "code",
   "execution_count": 16,
   "metadata": {},
   "outputs": [
    {
     "data": {
      "text/html": [
       "<pre>[[],\n",
       " [],\n",
       " [6],\n",
       " [9, 11],\n",
       " [11, 10],\n",
       " [14],\n",
       " [16],\n",
       " [10, 9],\n",
       " [16, 14],\n",
       " [9, 10],\n",
       " ...,\n",
       " [12, 14],\n",
       " [13, 11],\n",
       " [10, 9],\n",
       " [7],\n",
       " [],\n",
       " [12, 10],\n",
       " [9, 8],\n",
       " [],\n",
       " [7, 8]]\n",
       "--------------------------\n",
       "type: 930236 * var * int16</pre>"
      ],
      "text/plain": [
       "<Array [[], [], [6], ..., [9, 8], [], [7, 8]] type='930236 * var * int16'>"
      ]
     },
     "execution_count": 16,
     "metadata": {},
     "output_type": "execute_result"
    }
   ],
   "source": [
    "muon_genpartidx=events[\"Muon_genPartIdx\"].array()\n",
    "muon_genpartidx"
   ]
  },
  {
   "cell_type": "markdown",
   "metadata": {},
   "source": [
    "We can also do a matching ourselves using deltaR method, in deltaR method, we need to make sure the delta phi is between pi and -pi. Below defines a deltaR function\n",
    "&Delta;R = (&Delta;&eta;<sup>2</sup> + &Delta;&phi;<sup>2</sup>)<sup>1/2</sup> <br>\n",
    "Note that &Delta;&phi; is between &pi; to -&pi;."
   ]
  },
  {
   "cell_type": "code",
   "execution_count": 17,
   "metadata": {},
   "outputs": [],
   "source": [
    "def deltaR(genetas, eta, genphis, phi):\n",
    "    return np.sqrt((genetas-eta)**2+((genphis-phi+pi)%(2*pi)-pi)**2)"
   ]
  },
  {
   "cell_type": "code",
   "execution_count": null,
   "metadata": {},
   "outputs": [],
   "source": [
    "muon_genpartidx_deltar=[]\n",
    "\n",
    "for genetas, genphis, etas, phis in zip(genpart_eta, genpart_phi, muon_eta, muon_phi):\n",
    "  idx=[]\n",
    "  for eta, phi in zip(etas, phis):\n",
    "    deltar=deltaR(genetas, eta, genphis, phi)\n",
    "    if ak.min(deltar)<0.3:\n",
    "        idx.append(ak.argmin(deltar))\n",
    "    else:\n",
    "        idx.append(-1)\n",
    "  muon_genpartidx_deltar.append(idx)\n",
    "\n",
    "#print(muon_genpartidx_deltar)\n",
    "#for geneta, genphi, in zip"
   ]
  },
  {
   "cell_type": "markdown",
   "metadata": {},
   "source": [
    "**Question 5**: Are there reconstructed muons that do not match any generated muons? Why? "
   ]
  },
  {
   "cell_type": "markdown",
   "metadata": {},
   "source": [
    "**Answer 5:**\n",
    "- Yes, mostly at low pT or high |η|, where most of the fake muons or muons from\n",
    "underlying event are. Such fakes do not have a corresponding generated muon"
   ]
  },
  {
   "cell_type": "markdown",
   "metadata": {},
   "source": [
    "**Question 6**: Are there cases in which the &Delta;R matching fails to find the correct generated particle? Why? "
   ]
  },
  {
   "cell_type": "markdown",
   "metadata": {},
   "source": [
    "**Answer 6:**\n",
    "- There are few cases. A geometrical matching (closest generated muon in ΔR) can fail\n",
    "when there are multiple muons close to each other (e.g. a well reconstructed muon and\n",
    "a few duplicates around it, reconstructed using the wrong track)"
   ]
  },
  {
   "cell_type": "markdown",
   "metadata": {},
   "source": [
    "Lets take a look at those reconstracted muons that do not match any generated muons, and plot their pt and eta distribution"
   ]
  },
  {
   "cell_type": "code",
   "execution_count": null,
   "metadata": {},
   "outputs": [],
   "source": [
    "masking_nogenmatch=(muon_genpartidx==-1)\n",
    "masking_genmatched=(muon_genpartidx!=-1)"
   ]
  },
  {
   "cell_type": "code",
   "execution_count": null,
   "metadata": {},
   "outputs": [],
   "source": [
    "print(masking_nogenmatch)\n",
    "plt.figure(figsize=(9,6))\n",
    "plt.hist(ak.flatten(muon_pt[masking_nogenmatch]), bins=150, range=[0,150], histtype='step',linewidth=2, color='blue', label='unmatched PAT muon $p_T$')\n",
    "plt.hist(ak.flatten(muon_pt[masking_genmatched]), bins=150, range=[0,150], histtype='step',linewidth=2, color='red', label='matched PAT muon $p_T$')\n",
    "plt.legend()\n",
    "plt.xlabel(r'PAT Muon $p_T$ (GeV)')\n",
    "plt.ylabel('Events')"
   ]
  },
  {
   "cell_type": "code",
   "execution_count": null,
   "metadata": {},
   "outputs": [],
   "source": [
    "plt.figure(figsize=(9,6))\n",
    "plt.hist(ak.flatten(muon_eta[masking_nogenmatch]), bins=60, range=[-3,3], histtype='step',linewidth=2, color='blue', label='unmatched PAT muon $\\eta$')\n",
    "plt.hist(ak.flatten(muon_eta[masking_genmatched]), bins=60, range=[-3,3], histtype='step',linewidth=2, color='red', label='matched PAT muon $\\eta$')\n",
    "plt.legend()\n",
    "plt.xlabel(r'PAT Muon $\\eta$')\n",
    "plt.ylabel('Events')"
   ]
  },
  {
   "cell_type": "markdown",
   "metadata": {},
   "source": [
    "# Step 4: Trigger matching"
   ]
  },
  {
   "cell_type": "markdown",
   "metadata": {},
   "source": [
    "A physics analysis often requires a matching between trigger and offline objects for a proper assessment of trigger efficiencies and related systematics. In order to reduce size per event. NanoAODThe no longer store matching information between muon objects and trigger objects. \n",
    "TrigObj_id in nanoAOD stored the ID of the HLT object. Using previous recipe, we can perform a simple $\\Delta R$ matching between HLT and reconstructed objects."
   ]
  },
  {
   "cell_type": "code",
   "execution_count": null,
   "metadata": {},
   "outputs": [],
   "source": [
    "hlt_pt, hlt_eta, hlt_phi, hlt_id= events.arrays([\"TrigObj_pt\", \"TrigObj_eta\", \"TrigObj_phi\", \"TrigObj_id\"], library='ak', how=tuple)"
   ]
  },
  {
   "cell_type": "code",
   "execution_count": null,
   "metadata": {},
   "outputs": [],
   "source": [
    "hltmuon_mask=abs(hlt_id)==13"
   ]
  },
  {
   "cell_type": "code",
   "execution_count": null,
   "metadata": {},
   "outputs": [],
   "source": [
    "hltmuon_genpartidx_deltar=[]\n",
    "\n",
    "for genetas, genphis, etas, phis in zip(genpart_eta, genpart_phi, hlt_eta[hltmuon_mask], hlt_phi[hltmuon_mask]):\n",
    "  idx=[]\n",
    "  for eta, phi in zip(etas, phis):\n",
    "    deltar=deltaR(genetas, eta, genphis, phi)\n",
    "    if ak.min(deltar)<0.1:\n",
    "        idx.append(ak.argmin(deltar))\n",
    "    else:\n",
    "        idx.append(-1)\n",
    "  hltmuon_genpartidx_deltar.append(idx)\n"
   ]
  },
  {
   "cell_type": "code",
   "execution_count": null,
   "metadata": {},
   "outputs": [],
   "source": [
    "hltmuon_genpartidx_deltar=ak.from_iter(hltmuon_genpartidx_deltar)\n",
    "hltmasking_nogenmatch=(hltmuon_genpartidx_deltar==-1)\n",
    "hltmasking_genmatched=(hltmuon_genpartidx_deltar!=-1)"
   ]
  },
  {
   "cell_type": "code",
   "execution_count": null,
   "metadata": {},
   "outputs": [],
   "source": [
    "plt.figure(figsize=(9,6))\n",
    "plt.hist(ak.flatten(hlt_pt[hltmuon_mask]), bins=150, range=[0,150], histtype='step', linewidth=2, color='green', label='HLT muon $p_T$')\n",
    "plt.hist(ak.flatten(hlt_pt[hltmuon_mask][hltmasking_nogenmatch]), bins=150, range=[0,150], histtype='step',linewidth=2, color='blue', label='unmatched HLT muon $p_T$')\n",
    "plt.hist(ak.flatten(hlt_pt[hltmuon_mask][hltmasking_genmatched]), bins=150, range=[0,150], histtype='step',linewidth=2, color='red', linestyle=(':'), label='matched HLT muon $p_T$')\n",
    "\n",
    "plt.legend()\n",
    "plt.xlabel(r'Muon $p_T$ (GeV)')\n",
    "plt.ylabel('Events')\n",
    "plt.yscale('log')"
   ]
  },
  {
   "cell_type": "code",
   "execution_count": null,
   "metadata": {},
   "outputs": [],
   "source": [
    "plt.figure(figsize=(9,6))\n",
    "plt.hist(ak.flatten(hlt_eta[hltmuon_mask][hltmasking_nogenmatch]), bins=60, range=[-3,3], histtype='step',linewidth=2, color='blue', label='unmatched HLT muon $\\eta$')\n",
    "plt.hist(ak.flatten(hlt_eta[hltmuon_mask][hltmasking_genmatched]), bins=60, range=[-3,3], histtype='step',linewidth=2, color='red', label='matched HLT muon $\\eta$')\n",
    "plt.hist(ak.flatten(hlt_eta[hltmuon_mask]), bins=60, range=[-3,3], histtype='step',linewidth=2, color='green', label='HLT muon $\\eta$')\n",
    "plt.legend()\n",
    "plt.xlabel(r'Muon $\\eta$')\n",
    "plt.ylabel('Events')"
   ]
  },
  {
   "cell_type": "code",
   "execution_count": null,
   "metadata": {},
   "outputs": [],
   "source": []
  },
  {
   "cell_type": "code",
   "execution_count": null,
   "metadata": {},
   "outputs": [],
   "source": []
  },
  {
   "cell_type": "code",
   "execution_count": null,
   "metadata": {},
   "outputs": [],
   "source": []
  }
 ],
 "metadata": {
  "kernelspec": {
   "display_name": "Python 3 (ipykernel)",
   "language": "python",
   "name": "python3"
  },
  "language_info": {
   "codemirror_mode": {
    "name": "ipython",
    "version": 3
   },
   "file_extension": ".py",
   "mimetype": "text/x-python",
   "name": "python",
   "nbconvert_exporter": "python",
   "pygments_lexer": "ipython3",
   "version": "3.9.12"
  }
 },
 "nbformat": 4,
 "nbformat_minor": 4
}
